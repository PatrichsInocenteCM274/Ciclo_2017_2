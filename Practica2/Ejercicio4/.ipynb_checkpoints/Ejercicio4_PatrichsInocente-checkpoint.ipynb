{
 "cells": [
  {
   "cell_type": "markdown",
   "metadata": {},
   "source": [
    "### Ejercicio 4"
   ]
  },
  {
   "cell_type": "markdown",
   "metadata": {},
   "source": [
    "#### a) Numero de entradas mayores a 4 en cada fila:"
   ]
  },
  {
   "cell_type": "code",
   "execution_count": 10,
   "metadata": {},
   "outputs": [
    {
     "data": {
      "text/html": [
       "<table>\n",
       "<tbody>\n",
       "\t<tr><td>3 </td><td> 6</td><td>7 </td><td>7 </td><td> 2</td><td> 4</td><td> 3</td><td>7 </td><td> 1</td><td>4 </td></tr>\n",
       "\t<tr><td>1 </td><td> 9</td><td>8 </td><td>7 </td><td> 2</td><td> 6</td><td>10</td><td>9 </td><td> 5</td><td>2 </td></tr>\n",
       "\t<tr><td>7 </td><td>10</td><td>8 </td><td>4 </td><td>10</td><td> 5</td><td> 4</td><td>8 </td><td> 4</td><td>4 </td></tr>\n",
       "\t<tr><td>4 </td><td> 3</td><td>1 </td><td>1 </td><td> 3</td><td> 3</td><td> 9</td><td>7 </td><td> 4</td><td>2 </td></tr>\n",
       "\t<tr><td>1 </td><td> 8</td><td>1 </td><td>9 </td><td> 9</td><td> 8</td><td> 1</td><td>3 </td><td> 7</td><td>7 </td></tr>\n",
       "\t<tr><td>2 </td><td> 6</td><td>7 </td><td>5 </td><td> 6</td><td>10</td><td> 4</td><td>6 </td><td>10</td><td>1 </td></tr>\n",
       "</tbody>\n",
       "</table>\n"
      ],
      "text/latex": [
       "\\begin{tabular}{llllllllll}\n",
       "\t 3  &  6 & 7  & 7  &  2 &  4 &  3 & 7  &  1 & 4 \\\\\n",
       "\t 1  &  9 & 8  & 7  &  2 &  6 & 10 & 9  &  5 & 2 \\\\\n",
       "\t 7  & 10 & 8  & 4  & 10 &  5 &  4 & 8  &  4 & 4 \\\\\n",
       "\t 4  &  3 & 1  & 1  &  3 &  3 &  9 & 7  &  4 & 2 \\\\\n",
       "\t 1  &  8 & 1  & 9  &  9 &  8 &  1 & 3  &  7 & 7 \\\\\n",
       "\t 2  &  6 & 7  & 5  &  6 & 10 &  4 & 6  & 10 & 1 \\\\\n",
       "\\end{tabular}\n"
      ],
      "text/markdown": [
       "\n",
       "| 3  |  6 | 7  | 7  |  2 |  4 |  3 | 7  |  1 | 4  | \n",
       "| 1  |  9 | 8  | 7  |  2 |  6 | 10 | 9  |  5 | 2  | \n",
       "| 7  | 10 | 8  | 4  | 10 |  5 |  4 | 8  |  4 | 4  | \n",
       "| 4  |  3 | 1  | 1  |  3 |  3 |  9 | 7  |  4 | 2  | \n",
       "| 1  |  8 | 1  | 9  |  9 |  8 |  1 | 3  |  7 | 7  | \n",
       "| 2  |  6 | 7  | 5  |  6 | 10 |  4 | 6  | 10 | 1  | \n",
       "\n",
       "\n"
      ],
      "text/plain": [
       "     [,1] [,2] [,3] [,4] [,5] [,6] [,7] [,8] [,9] [,10]\n",
       "[1,] 3     6   7    7     2    4    3   7     1   4    \n",
       "[2,] 1     9   8    7     2    6   10   9     5   2    \n",
       "[3,] 7    10   8    4    10    5    4   8     4   4    \n",
       "[4,] 4     3   1    1     3    3    9   7     4   2    \n",
       "[5,] 1     8   1    9     9    8    1   3     7   7    \n",
       "[6,] 2     6   7    5     6   10    4   6    10   1    "
      ]
     },
     "metadata": {},
     "output_type": "display_data"
    },
    {
     "data": {
      "text/html": [
       "'Numero de entradas mayores a 4 en la fila 1: '"
      ],
      "text/latex": [
       "'Numero de entradas mayores a 4 en la fila 1: '"
      ],
      "text/markdown": [
       "'Numero de entradas mayores a 4 en la fila 1: '"
      ],
      "text/plain": [
       "[1] \"Numero de entradas mayores a 4 en la fila 1: \""
      ]
     },
     "metadata": {},
     "output_type": "display_data"
    },
    {
     "data": {
      "text/html": [
       "4"
      ],
      "text/latex": [
       "4"
      ],
      "text/markdown": [
       "4"
      ],
      "text/plain": [
       "[1] 4"
      ]
     },
     "metadata": {},
     "output_type": "display_data"
    },
    {
     "data": {
      "text/html": [
       "'Numero de entradas mayores a 4 en laa fila 2: '"
      ],
      "text/latex": [
       "'Numero de entradas mayores a 4 en laa fila 2: '"
      ],
      "text/markdown": [
       "'Numero de entradas mayores a 4 en laa fila 2: '"
      ],
      "text/plain": [
       "[1] \"Numero de entradas mayores a 4 en laa fila 2: \""
      ]
     },
     "metadata": {},
     "output_type": "display_data"
    },
    {
     "data": {
      "text/html": [
       "7"
      ],
      "text/latex": [
       "7"
      ],
      "text/markdown": [
       "7"
      ],
      "text/plain": [
       "[1] 7"
      ]
     },
     "metadata": {},
     "output_type": "display_data"
    },
    {
     "data": {
      "text/html": [
       "'Numero de entradas mayores a 4 en la fila 3: '"
      ],
      "text/latex": [
       "'Numero de entradas mayores a 4 en la fila 3: '"
      ],
      "text/markdown": [
       "'Numero de entradas mayores a 4 en la fila 3: '"
      ],
      "text/plain": [
       "[1] \"Numero de entradas mayores a 4 en la fila 3: \""
      ]
     },
     "metadata": {},
     "output_type": "display_data"
    },
    {
     "data": {
      "text/html": [
       "6"
      ],
      "text/latex": [
       "6"
      ],
      "text/markdown": [
       "6"
      ],
      "text/plain": [
       "[1] 6"
      ]
     },
     "metadata": {},
     "output_type": "display_data"
    },
    {
     "data": {
      "text/html": [
       "'Numero de entradas mayores a 4 en la fila 4: '"
      ],
      "text/latex": [
       "'Numero de entradas mayores a 4 en la fila 4: '"
      ],
      "text/markdown": [
       "'Numero de entradas mayores a 4 en la fila 4: '"
      ],
      "text/plain": [
       "[1] \"Numero de entradas mayores a 4 en la fila 4: \""
      ]
     },
     "metadata": {},
     "output_type": "display_data"
    },
    {
     "data": {
      "text/html": [
       "2"
      ],
      "text/latex": [
       "2"
      ],
      "text/markdown": [
       "2"
      ],
      "text/plain": [
       "[1] 2"
      ]
     },
     "metadata": {},
     "output_type": "display_data"
    },
    {
     "data": {
      "text/html": [
       "'Numero de entradas mayores a 4 en la fila 5: '"
      ],
      "text/latex": [
       "'Numero de entradas mayores a 4 en la fila 5: '"
      ],
      "text/markdown": [
       "'Numero de entradas mayores a 4 en la fila 5: '"
      ],
      "text/plain": [
       "[1] \"Numero de entradas mayores a 4 en la fila 5: \""
      ]
     },
     "metadata": {},
     "output_type": "display_data"
    },
    {
     "data": {
      "text/html": [
       "6"
      ],
      "text/latex": [
       "6"
      ],
      "text/markdown": [
       "6"
      ],
      "text/plain": [
       "[1] 6"
      ]
     },
     "metadata": {},
     "output_type": "display_data"
    },
    {
     "data": {
      "text/html": [
       "'Numero de entradas mayores a 4 en la fila 6: '"
      ],
      "text/latex": [
       "'Numero de entradas mayores a 4 en la fila 6: '"
      ],
      "text/markdown": [
       "'Numero de entradas mayores a 4 en la fila 6: '"
      ],
      "text/plain": [
       "[1] \"Numero de entradas mayores a 4 en la fila 6: \""
      ]
     },
     "metadata": {},
     "output_type": "display_data"
    },
    {
     "data": {
      "text/html": [
       "7"
      ],
      "text/latex": [
       "7"
      ],
      "text/markdown": [
       "7"
      ],
      "text/plain": [
       "[1] 7"
      ]
     },
     "metadata": {},
     "output_type": "display_data"
    }
   ],
   "source": [
    "set.seed(75)\n",
    "aMat <- matrix(sample(10,size=60,replace=T),nr=6)\n",
    "aMat\n",
    "c(\"Numero de entradas mayores a 4 en la fila 1: \")\n",
    "sum(aMat[1,]>4)\n",
    "c(\"Numero de entradas mayores a 4 en laa fila 2: \")\n",
    "sum(aMat[2,]>4)\n",
    "c(\"Numero de entradas mayores a 4 en la fila 3: \")\n",
    "sum(aMat[3,]>4)\n",
    "c(\"Numero de entradas mayores a 4 en la fila 4: \")\n",
    "sum(aMat[4,]>4)\n",
    "c(\"Numero de entradas mayores a 4 en la fila 5: \")\n",
    "sum(aMat[5,]>4)\n",
    "c(\"Numero de entradas mayores a 4 en la fila 6: \")\n",
    "sum(aMat[6,]>4)"
   ]
  },
  {
   "cell_type": "markdown",
   "metadata": {},
   "source": [
    "#### b) Filas con dos ocurrencias del numero 7:"
   ]
  },
  {
   "cell_type": "code",
   "execution_count": 35,
   "metadata": {},
   "outputs": [
    {
     "name": "stdout",
     "output_type": "stream",
     "text": [
      "[1] 5\n"
     ]
    }
   ],
   "source": [
    "for(i in 1:6){ # i corresponde al numero de fila\n",
    " if(sum(aMat[i,]==7)==2){\n",
    "     print(i) # nos dara las filas que tienen dos ocurrencias con 7\n",
    "     }\n",
    "}\n"
   ]
  },
  {
   "cell_type": "markdown",
   "metadata": {},
   "source": [
    "#### c) "
   ]
  },
  {
   "cell_type": "code",
   "execution_count": null,
   "metadata": {
    "collapsed": true
   },
   "outputs": [],
   "source": []
  }
 ],
 "metadata": {
  "kernelspec": {
   "display_name": "R",
   "language": "R",
   "name": "ir"
  },
  "language_info": {
   "codemirror_mode": "r",
   "file_extension": ".r",
   "mimetype": "text/x-r-source",
   "name": "R",
   "pygments_lexer": "r",
   "version": "3.4.1"
  }
 },
 "nbformat": 4,
 "nbformat_minor": 2
}

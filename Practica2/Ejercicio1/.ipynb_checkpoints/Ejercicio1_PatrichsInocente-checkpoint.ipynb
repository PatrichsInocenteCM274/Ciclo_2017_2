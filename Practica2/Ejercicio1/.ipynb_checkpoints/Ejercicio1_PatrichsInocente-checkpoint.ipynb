{
 "cells": [
  {
   "cell_type": "markdown",
   "metadata": {},
   "source": [
    "### Ejercicio 1"
   ]
  },
  {
   "cell_type": "code",
   "execution_count": 14,
   "metadata": {},
   "outputs": [
    {
     "data": {
      "text/html": [
       "<table>\n",
       "<tbody>\n",
       "\t<tr><td>1</td><td>2</td><td>3</td><td>4</td><td>5</td></tr>\n",
       "\t<tr><td>2</td><td>3</td><td>4</td><td>5</td><td>6</td></tr>\n",
       "\t<tr><td>3</td><td>4</td><td>5</td><td>6</td><td>7</td></tr>\n",
       "\t<tr><td>4</td><td>5</td><td>6</td><td>7</td><td>8</td></tr>\n",
       "\t<tr><td>5</td><td>6</td><td>7</td><td>8</td><td>9</td></tr>\n",
       "</tbody>\n",
       "</table>\n"
      ],
      "text/latex": [
       "\\begin{tabular}{lllll}\n",
       "\t 1 & 2 & 3 & 4 & 5\\\\\n",
       "\t 2 & 3 & 4 & 5 & 6\\\\\n",
       "\t 3 & 4 & 5 & 6 & 7\\\\\n",
       "\t 4 & 5 & 6 & 7 & 8\\\\\n",
       "\t 5 & 6 & 7 & 8 & 9\\\\\n",
       "\\end{tabular}\n"
      ],
      "text/markdown": [
       "\n",
       "| 1 | 2 | 3 | 4 | 5 | \n",
       "| 2 | 3 | 4 | 5 | 6 | \n",
       "| 3 | 4 | 5 | 6 | 7 | \n",
       "| 4 | 5 | 6 | 7 | 8 | \n",
       "| 5 | 6 | 7 | 8 | 9 | \n",
       "\n",
       "\n"
      ],
      "text/plain": [
       "     [,1] [,2] [,3] [,4] [,5]\n",
       "[1,] 1    2    3    4    5   \n",
       "[2,] 2    3    4    5    6   \n",
       "[3,] 3    4    5    6    7   \n",
       "[4,] 4    5    6    7    8   \n",
       "[5,] 5    6    7    8    9   "
      ]
     },
     "metadata": {},
     "output_type": "display_data"
    }
   ],
   "source": [
    "# Matriz de Henkel 5x5\n",
    "M <- matrix(rep(seq(1,5,by=1),5)+rep(0:4,each=5), nrow = 5, ncol = 5)\n",
    "M"
   ]
  },
  {
   "cell_type": "markdown",
   "metadata": {},
   "source": [
    "#### Matriz de Henkel 10 x 10 y 12 x 12 mediante funciones:"
   ]
  },
  {
   "cell_type": "code",
   "execution_count": 13,
   "metadata": {},
   "outputs": [
    {
     "data": {
      "text/html": [
       "'Matriz de Henkel de 10 x 10'"
      ],
      "text/latex": [
       "'Matriz de Henkel de 10 x 10'"
      ],
      "text/markdown": [
       "'Matriz de Henkel de 10 x 10'"
      ],
      "text/plain": [
       "[1] \"Matriz de Henkel de 10 x 10\""
      ]
     },
     "metadata": {},
     "output_type": "display_data"
    },
    {
     "data": {
      "text/html": [
       "<table>\n",
       "<tbody>\n",
       "\t<tr><td> 1</td><td> 2</td><td> 3</td><td> 4</td><td> 5</td><td> 6</td><td> 7</td><td> 8</td><td> 9</td><td>10</td></tr>\n",
       "\t<tr><td> 2</td><td> 3</td><td> 4</td><td> 5</td><td> 6</td><td> 7</td><td> 8</td><td> 9</td><td>10</td><td>11</td></tr>\n",
       "\t<tr><td> 3</td><td> 4</td><td> 5</td><td> 6</td><td> 7</td><td> 8</td><td> 9</td><td>10</td><td>11</td><td>12</td></tr>\n",
       "\t<tr><td> 4</td><td> 5</td><td> 6</td><td> 7</td><td> 8</td><td> 9</td><td>10</td><td>11</td><td>12</td><td>13</td></tr>\n",
       "\t<tr><td> 5</td><td> 6</td><td> 7</td><td> 8</td><td> 9</td><td>10</td><td>11</td><td>12</td><td>13</td><td>14</td></tr>\n",
       "\t<tr><td> 6</td><td> 7</td><td> 8</td><td> 9</td><td>10</td><td>11</td><td>12</td><td>13</td><td>14</td><td>15</td></tr>\n",
       "\t<tr><td> 7</td><td> 8</td><td> 9</td><td>10</td><td>11</td><td>12</td><td>13</td><td>14</td><td>15</td><td>16</td></tr>\n",
       "\t<tr><td> 8</td><td> 9</td><td>10</td><td>11</td><td>12</td><td>13</td><td>14</td><td>15</td><td>16</td><td>17</td></tr>\n",
       "\t<tr><td> 9</td><td>10</td><td>11</td><td>12</td><td>13</td><td>14</td><td>15</td><td>16</td><td>17</td><td>18</td></tr>\n",
       "\t<tr><td>10</td><td>11</td><td>12</td><td>13</td><td>14</td><td>15</td><td>16</td><td>17</td><td>18</td><td>19</td></tr>\n",
       "</tbody>\n",
       "</table>\n"
      ],
      "text/latex": [
       "\\begin{tabular}{llllllllll}\n",
       "\t  1 &  2 &  3 &  4 &  5 &  6 &  7 &  8 &  9 & 10\\\\\n",
       "\t  2 &  3 &  4 &  5 &  6 &  7 &  8 &  9 & 10 & 11\\\\\n",
       "\t  3 &  4 &  5 &  6 &  7 &  8 &  9 & 10 & 11 & 12\\\\\n",
       "\t  4 &  5 &  6 &  7 &  8 &  9 & 10 & 11 & 12 & 13\\\\\n",
       "\t  5 &  6 &  7 &  8 &  9 & 10 & 11 & 12 & 13 & 14\\\\\n",
       "\t  6 &  7 &  8 &  9 & 10 & 11 & 12 & 13 & 14 & 15\\\\\n",
       "\t  7 &  8 &  9 & 10 & 11 & 12 & 13 & 14 & 15 & 16\\\\\n",
       "\t  8 &  9 & 10 & 11 & 12 & 13 & 14 & 15 & 16 & 17\\\\\n",
       "\t  9 & 10 & 11 & 12 & 13 & 14 & 15 & 16 & 17 & 18\\\\\n",
       "\t 10 & 11 & 12 & 13 & 14 & 15 & 16 & 17 & 18 & 19\\\\\n",
       "\\end{tabular}\n"
      ],
      "text/markdown": [
       "\n",
       "|  1 |  2 |  3 |  4 |  5 |  6 |  7 |  8 |  9 | 10 | \n",
       "|  2 |  3 |  4 |  5 |  6 |  7 |  8 |  9 | 10 | 11 | \n",
       "|  3 |  4 |  5 |  6 |  7 |  8 |  9 | 10 | 11 | 12 | \n",
       "|  4 |  5 |  6 |  7 |  8 |  9 | 10 | 11 | 12 | 13 | \n",
       "|  5 |  6 |  7 |  8 |  9 | 10 | 11 | 12 | 13 | 14 | \n",
       "|  6 |  7 |  8 |  9 | 10 | 11 | 12 | 13 | 14 | 15 | \n",
       "|  7 |  8 |  9 | 10 | 11 | 12 | 13 | 14 | 15 | 16 | \n",
       "|  8 |  9 | 10 | 11 | 12 | 13 | 14 | 15 | 16 | 17 | \n",
       "|  9 | 10 | 11 | 12 | 13 | 14 | 15 | 16 | 17 | 18 | \n",
       "| 10 | 11 | 12 | 13 | 14 | 15 | 16 | 17 | 18 | 19 | \n",
       "\n",
       "\n"
      ],
      "text/plain": [
       "      [,1] [,2] [,3] [,4] [,5] [,6] [,7] [,8] [,9] [,10]\n",
       " [1,]  1    2    3    4    5    6    7    8    9   10   \n",
       " [2,]  2    3    4    5    6    7    8    9   10   11   \n",
       " [3,]  3    4    5    6    7    8    9   10   11   12   \n",
       " [4,]  4    5    6    7    8    9   10   11   12   13   \n",
       " [5,]  5    6    7    8    9   10   11   12   13   14   \n",
       " [6,]  6    7    8    9   10   11   12   13   14   15   \n",
       " [7,]  7    8    9   10   11   12   13   14   15   16   \n",
       " [8,]  8    9   10   11   12   13   14   15   16   17   \n",
       " [9,]  9   10   11   12   13   14   15   16   17   18   \n",
       "[10,] 10   11   12   13   14   15   16   17   18   19   "
      ]
     },
     "metadata": {},
     "output_type": "display_data"
    },
    {
     "data": {
      "text/html": [
       "'Matriz de Henkel de 12 x 12'"
      ],
      "text/latex": [
       "'Matriz de Henkel de 12 x 12'"
      ],
      "text/markdown": [
       "'Matriz de Henkel de 12 x 12'"
      ],
      "text/plain": [
       "[1] \"Matriz de Henkel de 12 x 12\""
      ]
     },
     "metadata": {},
     "output_type": "display_data"
    },
    {
     "data": {
      "text/html": [
       "<table>\n",
       "<tbody>\n",
       "\t<tr><td> 1</td><td> 2</td><td> 3</td><td> 4</td><td> 5</td><td> 6</td><td> 7</td><td> 8</td><td> 9</td><td>10</td><td>11</td><td>12</td></tr>\n",
       "\t<tr><td> 2</td><td> 3</td><td> 4</td><td> 5</td><td> 6</td><td> 7</td><td> 8</td><td> 9</td><td>10</td><td>11</td><td>12</td><td>13</td></tr>\n",
       "\t<tr><td> 3</td><td> 4</td><td> 5</td><td> 6</td><td> 7</td><td> 8</td><td> 9</td><td>10</td><td>11</td><td>12</td><td>13</td><td>14</td></tr>\n",
       "\t<tr><td> 4</td><td> 5</td><td> 6</td><td> 7</td><td> 8</td><td> 9</td><td>10</td><td>11</td><td>12</td><td>13</td><td>14</td><td>15</td></tr>\n",
       "\t<tr><td> 5</td><td> 6</td><td> 7</td><td> 8</td><td> 9</td><td>10</td><td>11</td><td>12</td><td>13</td><td>14</td><td>15</td><td>16</td></tr>\n",
       "\t<tr><td> 6</td><td> 7</td><td> 8</td><td> 9</td><td>10</td><td>11</td><td>12</td><td>13</td><td>14</td><td>15</td><td>16</td><td>17</td></tr>\n",
       "\t<tr><td> 7</td><td> 8</td><td> 9</td><td>10</td><td>11</td><td>12</td><td>13</td><td>14</td><td>15</td><td>16</td><td>17</td><td>18</td></tr>\n",
       "\t<tr><td> 8</td><td> 9</td><td>10</td><td>11</td><td>12</td><td>13</td><td>14</td><td>15</td><td>16</td><td>17</td><td>18</td><td>19</td></tr>\n",
       "\t<tr><td> 9</td><td>10</td><td>11</td><td>12</td><td>13</td><td>14</td><td>15</td><td>16</td><td>17</td><td>18</td><td>19</td><td>20</td></tr>\n",
       "\t<tr><td>10</td><td>11</td><td>12</td><td>13</td><td>14</td><td>15</td><td>16</td><td>17</td><td>18</td><td>19</td><td>20</td><td>21</td></tr>\n",
       "\t<tr><td>11</td><td>12</td><td>13</td><td>14</td><td>15</td><td>16</td><td>17</td><td>18</td><td>19</td><td>20</td><td>21</td><td>22</td></tr>\n",
       "\t<tr><td>12</td><td>13</td><td>14</td><td>15</td><td>16</td><td>17</td><td>18</td><td>19</td><td>20</td><td>21</td><td>22</td><td>23</td></tr>\n",
       "</tbody>\n",
       "</table>\n"
      ],
      "text/latex": [
       "\\begin{tabular}{llllllllllll}\n",
       "\t  1 &  2 &  3 &  4 &  5 &  6 &  7 &  8 &  9 & 10 & 11 & 12\\\\\n",
       "\t  2 &  3 &  4 &  5 &  6 &  7 &  8 &  9 & 10 & 11 & 12 & 13\\\\\n",
       "\t  3 &  4 &  5 &  6 &  7 &  8 &  9 & 10 & 11 & 12 & 13 & 14\\\\\n",
       "\t  4 &  5 &  6 &  7 &  8 &  9 & 10 & 11 & 12 & 13 & 14 & 15\\\\\n",
       "\t  5 &  6 &  7 &  8 &  9 & 10 & 11 & 12 & 13 & 14 & 15 & 16\\\\\n",
       "\t  6 &  7 &  8 &  9 & 10 & 11 & 12 & 13 & 14 & 15 & 16 & 17\\\\\n",
       "\t  7 &  8 &  9 & 10 & 11 & 12 & 13 & 14 & 15 & 16 & 17 & 18\\\\\n",
       "\t  8 &  9 & 10 & 11 & 12 & 13 & 14 & 15 & 16 & 17 & 18 & 19\\\\\n",
       "\t  9 & 10 & 11 & 12 & 13 & 14 & 15 & 16 & 17 & 18 & 19 & 20\\\\\n",
       "\t 10 & 11 & 12 & 13 & 14 & 15 & 16 & 17 & 18 & 19 & 20 & 21\\\\\n",
       "\t 11 & 12 & 13 & 14 & 15 & 16 & 17 & 18 & 19 & 20 & 21 & 22\\\\\n",
       "\t 12 & 13 & 14 & 15 & 16 & 17 & 18 & 19 & 20 & 21 & 22 & 23\\\\\n",
       "\\end{tabular}\n"
      ],
      "text/markdown": [
       "\n",
       "|  1 |  2 |  3 |  4 |  5 |  6 |  7 |  8 |  9 | 10 | 11 | 12 | \n",
       "|  2 |  3 |  4 |  5 |  6 |  7 |  8 |  9 | 10 | 11 | 12 | 13 | \n",
       "|  3 |  4 |  5 |  6 |  7 |  8 |  9 | 10 | 11 | 12 | 13 | 14 | \n",
       "|  4 |  5 |  6 |  7 |  8 |  9 | 10 | 11 | 12 | 13 | 14 | 15 | \n",
       "|  5 |  6 |  7 |  8 |  9 | 10 | 11 | 12 | 13 | 14 | 15 | 16 | \n",
       "|  6 |  7 |  8 |  9 | 10 | 11 | 12 | 13 | 14 | 15 | 16 | 17 | \n",
       "|  7 |  8 |  9 | 10 | 11 | 12 | 13 | 14 | 15 | 16 | 17 | 18 | \n",
       "|  8 |  9 | 10 | 11 | 12 | 13 | 14 | 15 | 16 | 17 | 18 | 19 | \n",
       "|  9 | 10 | 11 | 12 | 13 | 14 | 15 | 16 | 17 | 18 | 19 | 20 | \n",
       "| 10 | 11 | 12 | 13 | 14 | 15 | 16 | 17 | 18 | 19 | 20 | 21 | \n",
       "| 11 | 12 | 13 | 14 | 15 | 16 | 17 | 18 | 19 | 20 | 21 | 22 | \n",
       "| 12 | 13 | 14 | 15 | 16 | 17 | 18 | 19 | 20 | 21 | 22 | 23 | \n",
       "\n",
       "\n"
      ],
      "text/plain": [
       "      [,1] [,2] [,3] [,4] [,5] [,6] [,7] [,8] [,9] [,10] [,11] [,12]\n",
       " [1,]  1    2    3    4    5    6    7    8    9   10    11    12   \n",
       " [2,]  2    3    4    5    6    7    8    9   10   11    12    13   \n",
       " [3,]  3    4    5    6    7    8    9   10   11   12    13    14   \n",
       " [4,]  4    5    6    7    8    9   10   11   12   13    14    15   \n",
       " [5,]  5    6    7    8    9   10   11   12   13   14    15    16   \n",
       " [6,]  6    7    8    9   10   11   12   13   14   15    16    17   \n",
       " [7,]  7    8    9   10   11   12   13   14   15   16    17    18   \n",
       " [8,]  8    9   10   11   12   13   14   15   16   17    18    19   \n",
       " [9,]  9   10   11   12   13   14   15   16   17   18    19    20   \n",
       "[10,] 10   11   12   13   14   15   16   17   18   19    20    21   \n",
       "[11,] 11   12   13   14   15   16   17   18   19   20    21    22   \n",
       "[12,] 12   13   14   15   16   17   18   19   20   21    22    23   "
      ]
     },
     "metadata": {},
     "output_type": "display_data"
    }
   ],
   "source": [
    "MatrizH <- function(n)\n",
    "{\n",
    "    M <- matrix(rep(seq(1,n,by=1),n)+rep(0:(n-1),each=n), nrow = n, ncol = n)\n",
    "    M\n",
    "}\n",
    "c(\"Matriz de Henkel de 10 x 10\")\n",
    "MatrizH(10)\n",
    "c(\"Matriz de Henkel de 12 x 12\")\n",
    "MatrizH(12)"
   ]
  },
  {
   "cell_type": "code",
   "execution_count": 7,
   "metadata": {
    "collapsed": true
   },
   "outputs": [],
   "source": []
  }
 ],
 "metadata": {
  "kernelspec": {
   "display_name": "R",
   "language": "R",
   "name": "ir"
  },
  "language_info": {
   "codemirror_mode": "r",
   "file_extension": ".r",
   "mimetype": "text/x-r-source",
   "name": "R",
   "pygments_lexer": "r",
   "version": "3.4.1"
  }
 },
 "nbformat": 4,
 "nbformat_minor": 2
}

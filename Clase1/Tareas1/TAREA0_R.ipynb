{
 "cells": [
  {
   "cell_type": "markdown",
   "metadata": {},
   "source": [
    "# 1 .Experimenta con los siguientes comandos e interpreta los resultados:"
   ]
  },
  {
   "cell_type": "code",
   "execution_count": 1,
   "metadata": {},
   "outputs": [
    {
     "name": "stdout",
     "output_type": "stream",
     "text": [
      "hello world\n"
     ]
    }
   ],
   "source": [
    "echo hello world"
   ]
  },
  {
   "cell_type": "markdown",
   "metadata": {},
   "source": [
    ">\"echo hello world\" Muestra un mensaje en pantalla de la terminal"
   ]
  },
  {
   "cell_type": "code",
   "execution_count": null,
   "metadata": {},
   "outputs": [
    {
     "name": "stdout",
     "output_type": "stream",
     "text": [
      "Cambiando la contraseña de patrichs.\n"
     ]
    }
   ],
   "source": [
    "passwd"
   ]
  },
  {
   "cell_type": "markdown",
   "metadata": {},
   "source": [
    "> \"passwd\" permite cambiar nuestra contraseña de sesion"
   ]
  },
  {
   "cell_type": "code",
   "execution_count": 1,
   "metadata": {},
   "outputs": [
    {
     "name": "stdout",
     "output_type": "stream",
     "text": [
      "vie sep 29 09:01:58 PET 2017\n"
     ]
    }
   ],
   "source": [
    "date"
   ]
  },
  {
   "cell_type": "markdown",
   "metadata": {},
   "source": [
    "> \"date\" nos muestra la hora,dia,mes y año actual"
   ]
  },
  {
   "cell_type": "code",
   "execution_count": 2,
   "metadata": {},
   "outputs": [
    {
     "name": "stdout",
     "output_type": "stream",
     "text": [
      "patrichs-X555LB\n"
     ]
    }
   ],
   "source": [
    "hostname"
   ]
  },
  {
   "cell_type": "markdown",
   "metadata": {},
   "source": [
    "> \"hostname\" muestra el nombre del sistema"
   ]
  },
  {
   "cell_type": "code",
   "execution_count": 3,
   "metadata": {},
   "outputs": [
    {
     "name": "stdout",
     "output_type": "stream",
     "text": [
      "x86_64\n"
     ]
    }
   ],
   "source": [
    "arch"
   ]
  },
  {
   "cell_type": "markdown",
   "metadata": {},
   "source": [
    "> \"arch\" muestra informacion sobre la arquitectura del equipo"
   ]
  },
  {
   "cell_type": "code",
   "execution_count": 4,
   "metadata": {},
   "outputs": [
    {
     "name": "stdout",
     "output_type": "stream",
     "text": [
      "Linux patrichs-X555LB 4.10.0-33-generic #37~16.04.1-Ubuntu SMP Fri Aug 11 14:07:24 UTC 2017 x86_64 x86_64 x86_64 GNU/Linux\n"
     ]
    }
   ],
   "source": [
    "uname -a"
   ]
  },
  {
   "cell_type": "markdown",
   "metadata": {},
   "source": [
    "> \"uname -a\" muestra mayor informacion que \"arch\" ,ademas de la arquitectura,muestra informacion sobre la version del sistema operativo"
   ]
  },
  {
   "cell_type": "code",
   "execution_count": null,
   "metadata": {},
   "outputs": [
    {
     "name": "stdout",
     "output_type": "stream",
     "text": [
      "[    0.000000] microcode: microcode updated early to revision 0x22, date = 2015-\n",
      "09-11\n",
      "[    0.000000] Linux version 4.10.0-33-generic (buildd@lgw01-22) (gcc version 5.\n",
      "4.0 20160609 (Ubuntu 5.4.0-6ubuntu1~16.04.4) ) #37~16.04.1-Ubuntu SMP Fri Aug 11\n",
      " 14:07:24 UTC 2017 (Ubuntu 4.10.0-33.37~16.04.1-generic 4.10.17)\n",
      "[    0.000000] Command line: BOOT_IMAGE=/boot/vmlinuz-4.10.0-33-generic.efi.sign\n",
      "ed root=UUID=7a7ca876-379b-4b5a-89a9-7b551020f8e2 ro quiet splash vt.handoff=7\n",
      "[    0.000000] KERNEL supported cpus:\n",
      "[    0.000000]   Intel GenuineIntel\n",
      "[    0.000000]   AMD AuthenticAMD\n",
      "[    0.000000]   Centaur CentaurHauls\n",
      "[    0.000000] x86/fpu: Supporting XSAVE feature 0x001: 'x87 floating point regi\n",
      "sters'\n",
      "[    0.000000] x86/fpu: Supporting XSAVE feature 0x002: 'SSE registers'\n",
      "[    0.000000] x86/fpu: Supporting XSAVE feature 0x004: 'AVX registers'\n",
      "[    0.000000] x86/fpu: xstate_offset[2]:  576, xstate_sizes[2]:  256\n",
      "[    0.000000] x86/fpu: Enabled xstate features 0x7, context size is 832 bytes, \n",
      "using 'standard' format.\n",
      "[    0.000000] e820: BIOS-provided physical RAM map:\n",
      "[    0.000000] BIOS-e820: [mem 0x0000000000000000-0x0000000000057fff] usable\n",
      "[    0.000000] BIOS-e820: [mem 0x0000000000058000-0x0000000000058fff] reserved\n",
      "[    0.000000] BIOS-e820: [mem 0x0000000000059000-0x000000000009dfff] usable\n",
      "[    0.000000] BIOS-e820: [mem 0x000000000009e000-0x000000000009ffff] reserved\n"
     ]
    }
   ],
   "source": [
    "dmesg | more"
   ]
  },
  {
   "cell_type": "markdown",
   "metadata": {},
   "source": [
    "> \"dmesg | more\" muestra mensajes de diagnostico al correr nuestro sistema"
   ]
  },
  {
   "cell_type": "code",
   "execution_count": 2,
   "metadata": {},
   "outputs": [
    {
     "name": "stdout",
     "output_type": "stream",
     "text": [
      " 09:06:19 up  1:00,  1 user,  load average: 0,73, 0,95, 0,73\n"
     ]
    }
   ],
   "source": [
    "uptime"
   ]
  },
  {
   "cell_type": "markdown",
   "metadata": {},
   "source": [
    "> \"uptime\" muestra primero la hora actual,luego el tiempo de uso ininterrumpido de mi sesion (sin apagar),tambien muestra cuantos usuarios estan usando el sistema"
   ]
  },
  {
   "cell_type": "code",
   "execution_count": 4,
   "metadata": {
    "collapsed": true
   },
   "outputs": [],
   "source": [
    "who am i"
   ]
  },
  {
   "cell_type": "code",
   "execution_count": 6,
   "metadata": {},
   "outputs": [
    {
     "name": "stdout",
     "output_type": "stream",
     "text": [
      "patrichs tty7         2017-09-29 08:05 (:0)\n"
     ]
    }
   ],
   "source": [
    "who"
   ]
  },
  {
   "cell_type": "markdown",
   "metadata": {},
   "source": [
    "> \"who am i\" y \"who\" en conjunto nos muestra el nombre del usuario actual"
   ]
  },
  {
   "cell_type": "code",
   "execution_count": 7,
   "metadata": {},
   "outputs": [
    {
     "name": "stdout",
     "output_type": "stream",
     "text": [
      "uid=1000(patrichs) gid=1000(patrichs) grupos=1000(patrichs),4(adm),20(dialout),24(cdrom),27(sudo),30(dip),46(plugdev),113(lpadmin),128(sambashare)\n"
     ]
    }
   ],
   "source": [
    "id"
   ]
  },
  {
   "cell_type": "markdown",
   "metadata": {},
   "source": [
    "> \"id\" muestra por pantalla el identificador del usuario que ejecuta el programa, el identificador de su grupo, así como todos los grupos a los cuales pertenece este usuario;"
   ]
  },
  {
   "cell_type": "code",
   "execution_count": null,
   "metadata": {},
   "outputs": [],
   "source": [
    "last"
   ]
  },
  {
   "cell_type": "markdown",
   "metadata": {},
   "source": [
    "> \"last\" Muestra lo último registrado en la lista de usuarios. "
   ]
  },
  {
   "cell_type": "code",
   "execution_count": 9,
   "metadata": {},
   "outputs": [
    {
     "name": "stdout",
     "output_type": "stream",
     "text": [
      "Login     Name        Tty      Idle  Login Time   Office     Office Phone\n",
      "patrichs  Patrichs    tty7     1:10  Sep 29 08:05 (:0)\n"
     ]
    }
   ],
   "source": [
    "finger"
   ]
  },
  {
   "cell_type": "markdown",
   "metadata": {},
   "source": [
    "> con \"finger\" podemos conocer el nombre de login, el directorio, el nombre completo y otros datos de los usuarios usando este sistema."
   ]
  },
  {
   "cell_type": "code",
   "execution_count": 10,
   "metadata": {},
   "outputs": [
    {
     "name": "stdout",
     "output_type": "stream",
     "text": [
      " 09:17:59 up  1:12,  1 user,  load average: 0,57, 0,49, 0,55\n",
      "USUARIO  TTY      DE               LOGIN@   IDLE   JCPU   PCPU WHAT\n",
      "patrichs tty7     :0               08:05    1:12m  1:07   0.10s /sbin/upstart -\n"
     ]
    }
   ],
   "source": [
    "w"
   ]
  },
  {
   "cell_type": "markdown",
   "metadata": {},
   "source": [
    "> El comando \"w\" muestra información sobre los usuarios que están conectados en ese momento a la máquina y sobre sus procesos"
   ]
  },
  {
   "cell_type": "code",
   "execution_count": null,
   "metadata": {},
   "outputs": [],
   "source": [
    "top"
   ]
  },
  {
   "cell_type": "markdown",
   "metadata": {},
   "source": [
    "> El comando \"top\" nos ayuda a conocer los procesos de ejecución del sistema"
   ]
  },
  {
   "cell_type": "markdown",
   "metadata": {},
   "source": [
    "### 2 . Realiza las siguientes actividades:"
   ]
  },
  {
   "cell_type": "markdown",
   "metadata": {},
   "source": [
    "* Crea dos directorios llamados a1 y a2 en el directorio /home."
   ]
  },
  {
   "cell_type": "code",
   "execution_count": 24,
   "metadata": {},
   "outputs": [
    {
     "name": "stdout",
     "output_type": "stream",
     "text": [
      "/home\n"
     ]
    }
   ],
   "source": [
    "pwd"
   ]
  },
  {
   "cell_type": "markdown",
   "metadata": {},
   "source": [
    "### 3.Ejecutar script"
   ]
  },
  {
   "cell_type": "code",
   "execution_count": null,
   "metadata": {
    "collapsed": true
   },
   "outputs": [],
   "source": [
    "#!/bin/sh\n",
    "for f in $*\n",
    "do\n",
    "  if [ -f  $f -a  ! -x  $f ]\n",
    "  then\n",
    "    case $f in\n",
    "    core)\n",
    "      echo \"$f: archivo de memoria\"\n",
    "      ;;\n",
    "    *.c)\n",
    "     echo \"$f: un programa en C\"\n",
    "      ;;\n",
    "    *.cpp|*.cc|*.cxx)\n",
    "      echo \"$f: un programa en C+\"\n",
    "      ;;\n",
    "    *.txt)\n",
    "      echo \"$f: un archivo de texto\"\n",
    "      ;;\n",
    "    *.pl)\n",
    "      echo \"$f: un script de Perl\"\n",
    "      ;;\n",
    "    *.html|*.htm)\n",
    "      echo \"$f: un documento web\"\n",
    "      ;;\n",
    "    *)\n",
    "      echo \"$f: aparece ser  \"`file -b $f`\n",
    "      ;;\n",
    "    esac\n",
    "  fi\n",
    "done"
   ]
  },
  {
   "cell_type": "code",
   "execution_count": 17,
   "metadata": {},
   "outputs": [
    {
     "name": "stdout",
     "output_type": "stream",
     "text": [
      "ls: no se puede acceder a 'bash_script': No existe el archivo o el directorio\n",
      "chmod: no se puede acceder a 'bash_script': No existe el archivo o el directorio\n",
      "ls: no se puede acceder a 'bash_script': No existe el archivo o el directorio\n",
      "bash: ./bash_script: No existe el archivo o el directorio\n"
     ]
    },
    {
     "ename": "",
     "evalue": "127",
     "output_type": "error",
     "traceback": []
    }
   ],
   "source": []
  },
  {
   "cell_type": "markdown",
   "metadata": {},
   "source": [
    "### 4.Ejecutar script llamado bash_script:"
   ]
  },
  {
   "cell_type": "raw",
   "metadata": {},
   "source": [
    "# !/bin/sh\n",
    "# este es un comentario\n",
    "echo \"El numero de argumentos es  $#\"\n",
    "echo \"Los argumentos son $*\"\n",
    "echo \"El primero es $1\"\n",
    "echo \"Mi numero de proceso es  $$\"\n",
    "echo \"Ingresa un numero desde el teclado: \"\n",
    "read numero\n",
    "echo \"El numero que has ingresado es $numero\""
   ]
  },
  {
   "cell_type": "code",
   "execution_count": null,
   "metadata": {},
   "outputs": [
    {
     "name": "stdout",
     "output_type": "stream",
     "text": [
      "-rwxrwxr-x 1 patrichs patrichs 261 oct 24 22:55 \u001b[0m\u001b[01;32mbash_script\u001b[0m\n",
      "-rwxrwxr-x 1 patrichs patrichs 261 oct 24 22:55 \u001b[0m\u001b[01;32mbash_script\u001b[0m\n",
      "El numero de argumentos es  3\n",
      "Los argumentos son hola a todos\n",
      "El primero es hola\n",
      "Mi numero de proceso es  3389\n",
      "Ingresa un numero desde el teclado: \n"
     ]
    }
   ],
   "source": [
    "ls -l bash_script\n",
    "chmod +x bash_script\n",
    "ls -l bash_script\n",
    "./bash_script hola a todos"
   ]
  },
  {
   "cell_type": "markdown",
   "metadata": {
    "collapsed": true
   },
   "source": [
    "### 5 . Prueba en secuencia los siguientes comandos y explica tus pasos"
   ]
  },
  {
   "cell_type": "code",
   "execution_count": 1,
   "metadata": {},
   "outputs": [],
   "source": [
    "cd "
   ]
  },
  {
   "cell_type": "markdown",
   "metadata": {},
   "source": [
    "**cd** me ubica en mi directorio personal /home/patrichs a pesar de estar en cualquier otro lugar\n"
   ]
  },
  {
   "cell_type": "code",
   "execution_count": 2,
   "metadata": {},
   "outputs": [
    {
     "name": "stdout",
     "output_type": "stream",
     "text": [
      "/home/patrichs\n"
     ]
    }
   ],
   "source": [
    "pwd"
   ]
  },
  {
   "cell_type": "markdown",
   "metadata": {},
   "source": [
    "**pwd** me muestra donde me encuentro actualmente"
   ]
  },
  {
   "cell_type": "code",
   "execution_count": 3,
   "metadata": {},
   "outputs": [
    {
     "name": "stdout",
     "output_type": "stream",
     "text": [
      "total 940\n",
      "drwxr-xr-x 32 patrichs patrichs   4096 oct 24 23:43 \u001b[0m\u001b[01;34m.\u001b[0m\n",
      "drwxr-xr-x  3 root     root       4096 sep  9 14:20 \u001b[01;34m..\u001b[0m\n",
      "drwx------  3 patrichs patrichs   4096 sep  9 19:44 \u001b[01;34m.adobe\u001b[0m\n",
      "drwxrwxr-x 20 patrichs patrichs   4096 sep 22 22:59 \u001b[01;34manaconda2\u001b[0m\n",
      "drwxrwxr-x  2 patrichs patrichs   4096 sep 20 00:30 \u001b[01;34m.arduino\u001b[0m\n",
      "drwxr-xr-x  2 patrichs patrichs   4096 sep 10 23:56 \u001b[01;34mAudio\u001b[0m\n",
      "-rw-------  1 patrichs patrichs  26558 oct 24 23:44 .bash_history\n",
      "-rw-r--r--  1 patrichs patrichs    220 sep  9 14:20 .bash_logout\n",
      "-rw-r--r--  1 patrichs patrichs   3858 sep 22 19:33 .bashrc\n",
      "-rw-r--r--  1 patrichs patrichs   3771 sep 22 19:33 .bashrc-anaconda2.bak\n",
      "-rwxrwxr-x  1 patrichs patrichs    261 oct 24 22:55 \u001b[01;32mbash_script\u001b[0m\n",
      "-rwxrwxr-x  1 patrichs patrichs    262 sep 29 09:39 \u001b[01;32mbash_script.sh\u001b[0m\n",
      "drwx------ 26 patrichs patrichs   4096 oct 22 00:50 \u001b[01;34m.cache\u001b[0m\n",
      "drwx------  3 patrichs patrichs   4096 sep  9 14:48 \u001b[01;34m.compiz\u001b[0m\n",
      "drwxrwxr-x  3 patrichs patrichs   4096 sep 22 22:46 \u001b[01;34m.conda\u001b[0m\n",
      "drwx------ 24 patrichs patrichs   4096 oct 20 14:04 \u001b[01;34m.config\u001b[0m\n",
      "-rw-------  1 patrichs patrichs  86094 sep 25 00:18 CV_Patrichs_Inocente.docx_0.odt\n",
      "drwxr-xr-x  3 patrichs patrichs   4096 oct 24 09:09 \u001b[01;34mDescargas\u001b[0m\n",
      "drwxr-xr-x  6 patrichs patrichs   4096 oct 20 10:41 \u001b[01;34mDocumentos\u001b[0m\n",
      "drwxr-xr-x  7 patrichs patrichs   4096 oct 24 13:24 \u001b[01;34mEscritorio\u001b[0m\n",
      "-rw-r--r--  1 patrichs patrichs   8980 sep  9 14:20 examples.desktop\n",
      "drwx------  2 patrichs patrichs   4096 oct 24 22:13 \u001b[01;34m.gconf\u001b[0m\n",
      "-rw-rw-r--  1 patrichs patrichs     73 sep 10 19:01 .gitconfig\n",
      "-rw-r-----  1 patrichs patrichs      0 sep 10 13:02 .gksu.lock\n",
      "drwx------  3 patrichs patrichs   4096 oct 24 22:12 \u001b[01;34m.gnupg\u001b[0m\n",
      "-rw-------  1 patrichs patrichs    135 sep 16 20:36 .gnuplot_history\n",
      "-rw-------  1 patrichs patrichs  35046 oct 24 22:12 .ICEauthority\n",
      "drwxr-xr-x  2 patrichs patrichs   4096 oct 24 13:53 \u001b[01;34mImágenes\u001b[0m\n",
      "drwxr-xr-x  2 patrichs patrichs   4096 oct 24 22:40 \u001b[01;34m.ipynb_checkpoints\u001b[0m\n",
      "drwxr-xr-x  5 patrichs patrichs   4096 sep 22 19:53 \u001b[01;34m.ipython\u001b[0m\n",
      "drwxrwxr-x  3 patrichs patrichs   4096 sep 20 00:28 \u001b[01;34m.java\u001b[0m\n",
      "drwxr-xr-x  2 patrichs patrichs   4096 sep 22 19:58 \u001b[01;34m.jupyter\u001b[0m\n",
      "drwx------  3 patrichs patrichs   4096 sep  9 14:45 \u001b[01;34m.local\u001b[0m\n",
      "drwx------  3 patrichs patrichs   4096 sep  9 19:44 \u001b[01;34m.macromedia\u001b[0m\n",
      "drwx------  4 patrichs patrichs   4096 sep  9 14:47 \u001b[01;34m.mozilla\u001b[0m\n",
      "drwxr-xr-x  2 patrichs patrichs   4096 sep  9 14:45 \u001b[01;34mMúsica\u001b[0m\n",
      "drwxrwxr-x  2 patrichs patrichs   4096 sep 15 15:03 \u001b[01;34m.nano\u001b[0m\n",
      "drwxr-xr-x  2 patrichs patrichs   4096 sep  9 14:45 \u001b[01;34mPlantillas\u001b[0m\n",
      "-rw-r--r--  1 patrichs patrichs    655 sep  9 14:20 .profile\n",
      "drwxr-xr-x  2 patrichs patrichs   4096 sep  9 14:45 \u001b[01;34mPúblico\u001b[0m\n",
      "drwxrwxr-x  3 patrichs patrichs   4096 sep 22 19:48 \u001b[01;34mR\u001b[0m\n",
      "-rw-rw-r--  1 patrichs patrichs  27046 oct 20 14:09 .Rhistory\n",
      "drwxrwxr-x 16 patrichs patrichs   4096 oct 24 13:25 \u001b[01;34m.rstudio-desktop\u001b[0m\n",
      "-rwxrwxr-x  1 patrichs patrichs    498 sep 29 09:42 \u001b[01;32mscript.sh\u001b[0m\n",
      "drwxrwxr-x  4 patrichs patrichs   4096 sep 20 11:21 \u001b[01;34msketchbook\u001b[0m\n",
      "-rw-r--r--  1 patrichs patrichs      0 sep  9 21:54 .sudo_as_admin_successful\n",
      "-rw-rw-r--  1 patrichs patrichs  35388 oct 24 23:43 TAREA0_R_InocentePatrichs.ipynb\n",
      "-rw-rw-r--  1 patrichs patrichs 481893 oct 20 23:06 Tarea1_R.ipynb\n",
      "drwx------  4 patrichs patrichs   4096 oct 18 12:32 \u001b[01;34m.thunderbird\u001b[0m\n",
      "-rw-rw-r--  1 patrichs patrichs    475 sep 29 08:50 Untitled10.ipynb\n",
      "-rw-rw-r--  1 patrichs patrichs   1788 sep 22 20:02 Untitled1.ipynb\n",
      "-rw-------  1 patrichs patrichs   7219 sep 25 00:18 untitled_1.ods\n",
      "-rw-rw-r--  1 patrichs patrichs   1525 sep 22 22:40 Untitled2.ipynb\n",
      "-rw-rw-r--  1 patrichs patrichs    537 sep 22 23:18 Untitled3.ipynb\n",
      "-rw-rw-r--  1 patrichs patrichs   6453 sep 24 01:40 Untitled4.ipynb\n",
      "-rw-rw-r--  1 patrichs patrichs   1422 sep 29 08:39 Untitled5.ipynb\n",
      "-rw-rw-r--  1 patrichs patrichs    775 sep 29 08:30 Untitled6.ipynb\n",
      "-rw-rw-r--  1 patrichs patrichs    859 sep 29 08:40 Untitled7.ipynb\n",
      "-rw-rw-r--  1 patrichs patrichs   1256 oct 24 22:59 Untitled8.ipynb\n",
      "-rw-rw-r--  1 patrichs patrichs   1252 sep 29 08:49 Untitled9.ipynb\n",
      "-rw-rw-r--  1 patrichs patrichs   1788 sep 22 19:57 Untitled.ipynb\n",
      "drwxr-xr-x  2 patrichs patrichs   4096 sep  9 14:45 \u001b[01;34mVídeos\u001b[0m\n",
      "-rw-------  1 patrichs patrichs     60 oct 24 22:12 .Xauthority\n",
      "-rw-------  1 patrichs patrichs     93 oct 24 22:12 .xsession-errors\n",
      "-rw-------  1 patrichs patrichs   1363 oct 24 14:14 .xsession-errors.old\n"
     ]
    }
   ],
   "source": [
    "ls -al"
   ]
  },
  {
   "cell_type": "markdown",
   "metadata": {},
   "source": [
    "**ls -al** nos muestra los archivos ocultos"
   ]
  },
  {
   "cell_type": "code",
   "execution_count": 4,
   "metadata": {
    "collapsed": true
   },
   "outputs": [],
   "source": [
    "cd ."
   ]
  },
  {
   "cell_type": "markdown",
   "metadata": {},
   "source": [
    "**cd .** nos mantiene en la direccion actual"
   ]
  },
  {
   "cell_type": "code",
   "execution_count": 5,
   "metadata": {},
   "outputs": [
    {
     "name": "stdout",
     "output_type": "stream",
     "text": [
      "/home/patrichs\n"
     ]
    }
   ],
   "source": [
    "pwd"
   ]
  },
  {
   "cell_type": "code",
   "execution_count": 6,
   "metadata": {
    "collapsed": true
   },
   "outputs": [],
   "source": [
    "cd .."
   ]
  },
  {
   "cell_type": "markdown",
   "metadata": {},
   "source": [
    "**cd ..** nos ubica en el directorio externo al cual nos encontramos"
   ]
  },
  {
   "cell_type": "code",
   "execution_count": 7,
   "metadata": {},
   "outputs": [
    {
     "name": "stdout",
     "output_type": "stream",
     "text": [
      "/home\n"
     ]
    }
   ],
   "source": [
    "pwd"
   ]
  },
  {
   "cell_type": "code",
   "execution_count": 8,
   "metadata": {},
   "outputs": [
    {
     "name": "stdout",
     "output_type": "stream",
     "text": [
      "total 12\n",
      "drwxr-xr-x  3 root     root     4096 sep  9 14:20 \u001b[0m\u001b[01;34m.\u001b[0m\n",
      "drwxr-xr-x 24 root     root     4096 sep  9 14:28 \u001b[01;34m..\u001b[0m\n",
      "drwxr-xr-x 32 patrichs patrichs 4096 oct 24 23:43 \u001b[01;34mpatrichs\u001b[0m\n"
     ]
    }
   ],
   "source": [
    "ls -al"
   ]
  },
  {
   "cell_type": "code",
   "execution_count": 9,
   "metadata": {
    "collapsed": true
   },
   "outputs": [],
   "source": [
    "cd .."
   ]
  },
  {
   "cell_type": "markdown",
   "metadata": {},
   "source": [
    "Nos movemos al directorio superior /"
   ]
  },
  {
   "cell_type": "code",
   "execution_count": 10,
   "metadata": {},
   "outputs": [
    {
     "name": "stdout",
     "output_type": "stream",
     "text": [
      "/\n"
     ]
    }
   ],
   "source": [
    "pwd"
   ]
  },
  {
   "cell_type": "code",
   "execution_count": 11,
   "metadata": {
    "collapsed": true
   },
   "outputs": [],
   "source": [
    "cd .."
   ]
  },
  {
   "cell_type": "code",
   "execution_count": 12,
   "metadata": {},
   "outputs": [
    {
     "name": "stdout",
     "output_type": "stream",
     "text": [
      "/\n"
     ]
    }
   ],
   "source": [
    "pwd"
   ]
  },
  {
   "cell_type": "markdown",
   "metadata": {},
   "source": [
    "Al parecer no puede encontrar un directorio padre y no nos movemos"
   ]
  },
  {
   "cell_type": "code",
   "execution_count": 13,
   "metadata": {
    "collapsed": true
   },
   "outputs": [],
   "source": [
    "cd /etc"
   ]
  },
  {
   "cell_type": "markdown",
   "metadata": {},
   "source": [
    "Cambiamos al directorio /etc"
   ]
  },
  {
   "cell_type": "code",
   "execution_count": 14,
   "metadata": {},
   "outputs": [
    {
     "name": "stdout",
     "output_type": "stream",
     "text": [
      "total 1732\n",
      "drwxr-xr-x 139 root root    12288 oct 16 16:00 .\n",
      "drwxr-xr-x  24 root root     4096 sep  9 14:28 ..\n",
      "drwxr-xr-x   3 root root     4096 ago  1 06:27 acpi\n",
      "-rw-r--r--   1 root root     3028 ago  1 06:18 adduser.conf\n",
      "drwxr-xr-x   2 root root    12288 oct 16 15:59 alternatives\n",
      "-rw-r--r--   1 root root      401 dic 28  2014 anacrontab\n",
      "drwxr-xr-x   3 root root     4096 sep 16 18:59 apache2\n",
      "-rw-r--r--   1 root root      112 ene 10  2014 apg.conf\n",
      "drwxr-xr-x   6 root root     4096 ago  1 06:21 apm\n",
      "drwxr-xr-x   3 root root     4096 oct 16 15:56 apparmor\n",
      "drwxr-xr-x   8 root root     4096 oct 16 15:59 apparmor.d\n",
      "drwxr-xr-x   5 root root     4096 ago  1 06:27 apport\n",
      "-rw-r--r--   1 root root      389 abr 18  2016 appstream.conf\n",
      "drwxr-xr-x   6 root root     4096 sep 10 23:46 apt\n",
      "drwxr-xr-x   3 root root     4096 ago  1 06:24 aptdaemon\n",
      "drwxr-xr-x   2 root root     4096 ago  1 06:27 at-spi2\n",
      "drwxr-xr-x   3 root root     4096 ago  1 06:27 avahi\n",
      "-rw-r--r--   1 root root   478254 ene  2  2016 avrdude.conf\n",
      "-rw-r--r--   1 root root     2188 ago 31  2015 bash.bashrc\n",
      "-rw-r--r--   1 root root       45 ago 12  2015 bash_completion\n",
      "drwxr-xr-x   2 root root     4096 oct 16 15:59 bash_completion.d\n",
      "-rw-r--r--   1 root root      367 ene 27  2016 bindresvport.blacklist\n",
      "\u001b[Km--Más--\u001b[27m"
     ]
    }
   ],
   "source": [
    "ls -al | more"
   ]
  },
  {
   "cell_type": "markdown",
   "metadata": {},
   "source": [
    "Nos muestra los archivos ocultos con la informacion de la fecha de actualizacion"
   ]
  },
  {
   "cell_type": "code",
   "execution_count": 15,
   "metadata": {},
   "outputs": [
    {
     "name": "stdout",
     "output_type": "stream",
     "text": [
      "root:x:0:0:root:/root:/bin/bash\n",
      "daemon:x:1:1:daemon:/usr/sbin:/usr/sbin/nologin\n",
      "bin:x:2:2:bin:/bin:/usr/sbin/nologin\n",
      "sys:x:3:3:sys:/dev:/usr/sbin/nologin\n",
      "sync:x:4:65534:sync:/bin:/bin/sync\n",
      "games:x:5:60:games:/usr/games:/usr/sbin/nologin\n",
      "man:x:6:12:man:/var/cache/man:/usr/sbin/nologin\n",
      "lp:x:7:7:lp:/var/spool/lpd:/usr/sbin/nologin\n",
      "mail:x:8:8:mail:/var/mail:/usr/sbin/nologin\n",
      "news:x:9:9:news:/var/spool/news:/usr/sbin/nologin\n",
      "uucp:x:10:10:uucp:/var/spool/uucp:/usr/sbin/nologin\n",
      "proxy:x:13:13:proxy:/bin:/usr/sbin/nologin\n",
      "www-data:x:33:33:www-data:/var/www:/usr/sbin/nologin\n",
      "backup:x:34:34:backup:/var/backups:/usr/sbin/nologin\n",
      "list:x:38:38:Mailing List Manager:/var/list:/usr/sbin/nologin\n",
      "irc:x:39:39:ircd:/var/run/ircd:/usr/sbin/nologin\n",
      "gnats:x:41:41:Gnats Bug-Reporting System (admin):/var/lib/gnats:/usr/sbin/nologin\n",
      "nobody:x:65534:65534:nobody:/nonexistent:/usr/sbin/nologin\n",
      "systemd-timesync:x:100:102:systemd Time Synchronization,,,:/run/systemd:/bin/false\n",
      "systemd-network:x:101:103:systemd Network Management,,,:/run/systemd/netif:/bin/false\n",
      "systemd-resolve:x:102:104:systemd Resolver,,,:/run/systemd/resolve:/bin/false\n",
      "systemd-bus-proxy:x:103:105:systemd Bus Proxy,,,:/run/systemd:/bin/false\n",
      "syslog:x:104:108::/home/syslog:/bin/false\n",
      "_apt:x:105:65534::/nonexistent:/bin/false\n",
      "messagebus:x:106:110::/var/run/dbus:/bin/false\n",
      "uuidd:x:107:111::/run/uuidd:/bin/false\n",
      "lightdm:x:108:114:Light Display Manager:/var/lib/lightdm:/bin/false\n",
      "whoopsie:x:109:117::/nonexistent:/bin/false\n",
      "avahi-autoipd:x:110:119:Avahi autoip daemon,,,:/var/lib/avahi-autoipd:/bin/false\n",
      "avahi:x:111:120:Avahi mDNS daemon,,,:/var/run/avahi-daemon:/bin/false\n",
      "dnsmasq:x:112:65534:dnsmasq,,,:/var/lib/misc:/bin/false\n",
      "colord:x:113:123:colord colour management daemon,,,:/var/lib/colord:/bin/false\n",
      "speech-dispatcher:x:114:29:Speech Dispatcher,,,:/var/run/speech-dispatcher:/bin/false\n",
      "hplip:x:115:7:HPLIP system user,,,:/var/run/hplip:/bin/false\n",
      "kernoops:x:116:65534:Kernel Oops Tracking Daemon,,,:/:/bin/false\n",
      "pulse:x:117:124:PulseAudio daemon,,,:/var/run/pulse:/bin/false\n",
      "rtkit:x:118:126:RealtimeKit,,,:/proc:/bin/false\n",
      "saned:x:119:127::/var/lib/saned:/bin/false\n",
      "usbmux:x:120:46:usbmux daemon,,,:/var/lib/usbmux:/bin/false\n",
      "patrichs:x:1000:1000:Patrichs ,,,:/home/patrichs:/bin/bash\n"
     ]
    }
   ],
   "source": [
    "cat passwd"
   ]
  },
  {
   "cell_type": "markdown",
   "metadata": {},
   "source": [
    "Nos muestra el contenido del archivo passwd"
   ]
  },
  {
   "cell_type": "code",
   "execution_count": 16,
   "metadata": {},
   "outputs": [
    {
     "name": "stdout",
     "output_type": "stream",
     "text": [
      "/\n"
     ]
    }
   ],
   "source": [
    "cd -"
   ]
  },
  {
   "cell_type": "code",
   "execution_count": 17,
   "metadata": {},
   "outputs": [
    {
     "name": "stdout",
     "output_type": "stream",
     "text": [
      "/\n"
     ]
    }
   ],
   "source": [
    "pwd"
   ]
  }
 ],
 "metadata": {
  "kernelspec": {
   "display_name": "Bash",
   "language": "bash",
   "name": "bash"
  },
  "language_info": {
   "codemirror_mode": "shell",
   "file_extension": ".sh",
   "mimetype": "text/x-sh",
   "name": "bash"
  }
 },
 "nbformat": 4,
 "nbformat_minor": 2
}

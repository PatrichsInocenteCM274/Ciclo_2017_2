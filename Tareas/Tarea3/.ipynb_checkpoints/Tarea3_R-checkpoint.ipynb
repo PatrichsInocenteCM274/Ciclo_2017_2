{
 "cells": [
  {
   "cell_type": "markdown",
   "metadata": {},
   "source": [
    "## TAREA 3"
   ]
  },
  {
   "cell_type": "markdown",
   "metadata": {},
   "source": [
    "### 1. Definir y predecir"
   ]
  },
  {
   "cell_type": "markdown",
   "metadata": {},
   "source": [
    "### a) \n",
    "* sum(x) nos devuelve el valor de la suma del todos los elementos del vector x,ya que x = {5,2,1,4} el valor esperado sera 12.\n",
    "* range(x) nos devuelve dos valores, el minimo y maximo valor de los elementos del vetor x,notamosque el minimo valor de x es 1 y el maximo es 5,por lo tanto son los valores esperados.\n",
    "* length(y) nos devuelve la cantidad de elementos del vector y, ya que y = {1,1,1,1,1} el numero devuelto esperado es 5."
   ]
  },
  {
   "cell_type": "code",
   "execution_count": 1,
   "metadata": {},
   "outputs": [
    {
     "data": {
      "text/html": [
       "12"
      ],
      "text/latex": [
       "12"
      ],
      "text/markdown": [
       "12"
      ],
      "text/plain": [
       "[1] 12"
      ]
     },
     "metadata": {},
     "output_type": "display_data"
    },
    {
     "data": {
      "text/html": [
       "<ol class=list-inline>\n",
       "\t<li>1</li>\n",
       "\t<li>5</li>\n",
       "</ol>\n"
      ],
      "text/latex": [
       "\\begin{enumerate*}\n",
       "\\item 1\n",
       "\\item 5\n",
       "\\end{enumerate*}\n"
      ],
      "text/markdown": [
       "1. 1\n",
       "2. 5\n",
       "\n",
       "\n"
      ],
      "text/plain": [
       "[1] 1 5"
      ]
     },
     "metadata": {},
     "output_type": "display_data"
    },
    {
     "data": {
      "text/html": [
       "5"
      ],
      "text/latex": [
       "5"
      ],
      "text/markdown": [
       "5"
      ],
      "text/plain": [
       "[1] 5"
      ]
     },
     "metadata": {},
     "output_type": "display_data"
    },
    {
     "data": {
      "text/html": [
       "5"
      ],
      "text/latex": [
       "5"
      ],
      "text/markdown": [
       "5"
      ],
      "text/plain": [
       "[1] 5"
      ]
     },
     "metadata": {},
     "output_type": "display_data"
    },
    {
     "data": {
      "text/html": [
       "5"
      ],
      "text/latex": [
       "5"
      ],
      "text/markdown": [
       "5"
      ],
      "text/plain": [
       "[1] 5"
      ]
     },
     "metadata": {},
     "output_type": "display_data"
    }
   ],
   "source": [
    "x <- c(5, 2, 1, 4)\n",
    "y <- rep(1, 5)\n",
    "\n",
    "sum(x)\n",
    "range(x)\n",
    "sum(y)\n",
    "length(y)\n",
    "sum(y)\n"
   ]
  },
  {
   "cell_type": "markdown",
   "metadata": {},
   "source": [
    "### b)\n",
    "* c(x, y, 13) nos indexa tres vectores: El vector x = {5,2,1,4},y = {1,1,1,1,1} y finalmente el vector {13} , el resultado esperado sera el vector {5,2,1,4,1,1,1,1,1,13}"
   ]
  },
  {
   "cell_type": "code",
   "execution_count": 2,
   "metadata": {},
   "outputs": [
    {
     "data": {
      "text/html": [
       "<ol class=list-inline>\n",
       "\t<li>5</li>\n",
       "\t<li>2</li>\n",
       "\t<li>1</li>\n",
       "\t<li>4</li>\n",
       "\t<li>1</li>\n",
       "\t<li>1</li>\n",
       "\t<li>1</li>\n",
       "\t<li>1</li>\n",
       "\t<li>1</li>\n",
       "\t<li>13</li>\n",
       "</ol>\n"
      ],
      "text/latex": [
       "\\begin{enumerate*}\n",
       "\\item 5\n",
       "\\item 2\n",
       "\\item 1\n",
       "\\item 4\n",
       "\\item 1\n",
       "\\item 1\n",
       "\\item 1\n",
       "\\item 1\n",
       "\\item 1\n",
       "\\item 13\n",
       "\\end{enumerate*}\n"
      ],
      "text/markdown": [
       "1. 5\n",
       "2. 2\n",
       "3. 1\n",
       "4. 4\n",
       "5. 1\n",
       "6. 1\n",
       "7. 1\n",
       "8. 1\n",
       "9. 1\n",
       "10. 13\n",
       "\n",
       "\n"
      ],
      "text/plain": [
       " [1]  5  2  1  4  1  1  1  1  1 13"
      ]
     },
     "metadata": {},
     "output_type": "display_data"
    }
   ],
   "source": [
    "x <- c(5, 2, 1, 4)\n",
    "y <- rep(1, 5)\n",
    "c(x, y, 13)"
   ]
  },
  {
   "cell_type": "markdown",
   "metadata": {},
   "source": [
    "### c)"
   ]
  },
  {
   "cell_type": "markdown",
   "metadata": {},
   "source": [
    "* x[4] * y[2] multiplica el 4to valor de x con el 2do valor de y,el valor esperado es 4.\n",
    "* x[2:4] + x[1:3] nos devuelve un vector de tres elementos, los cuales son el resultado de la suma de x[2]+x[1],x[3]+x[2],x[4]+x[3], ya que x = {5,2,1,4},el vector esperado como resultado es {7,3,5}"
   ]
  },
  {
   "cell_type": "code",
   "execution_count": 12,
   "metadata": {},
   "outputs": [
    {
     "data": {
      "text/html": [
       "4"
      ],
      "text/latex": [
       "4"
      ],
      "text/markdown": [
       "4"
      ],
      "text/plain": [
       "[1] 4"
      ]
     },
     "metadata": {},
     "output_type": "display_data"
    },
    {
     "data": {
      "text/html": [
       "<ol class=list-inline>\n",
       "\t<li>7</li>\n",
       "\t<li>3</li>\n",
       "\t<li>5</li>\n",
       "</ol>\n"
      ],
      "text/latex": [
       "\\begin{enumerate*}\n",
       "\\item 7\n",
       "\\item 3\n",
       "\\item 5\n",
       "\\end{enumerate*}\n"
      ],
      "text/markdown": [
       "1. 7\n",
       "2. 3\n",
       "3. 5\n",
       "\n",
       "\n"
      ],
      "text/plain": [
       "[1] 7 3 5"
      ]
     },
     "metadata": {},
     "output_type": "display_data"
    }
   ],
   "source": [
    "x <- c(5, 2, 1, 4)\n",
    "y <- rep(1, 5)\n",
    "x[4] * y[2]\n",
    "x[2:4] + x[1:3]"
   ]
  },
  {
   "cell_type": "markdown",
   "metadata": {},
   "source": [
    "### d)"
   ]
  },
  {
   "cell_type": "markdown",
   "metadata": {},
   "source": [
    "* x <= 2 Nos arroja los elementos de x que son menores o iguales que 2. Resultado esperado: {1,2}\n",
    "* x[x <= 2] Nos arroja los elementos de las 2 primeras posiciones.Resultado esperado: {5,2}\n",
    "* x[(x != 5) & (x > 3)] Nos arroja el elemento en la 4ta posicion.Resultado esperado: {4}"
   ]
  },
  {
   "cell_type": "code",
   "execution_count": 24,
   "metadata": {},
   "outputs": [
    {
     "data": {
      "text/html": [
       "<ol class=list-inline>\n",
       "\t<li>FALSE</li>\n",
       "\t<li>TRUE</li>\n",
       "\t<li>TRUE</li>\n",
       "\t<li>FALSE</li>\n",
       "</ol>\n"
      ],
      "text/latex": [
       "\\begin{enumerate*}\n",
       "\\item FALSE\n",
       "\\item TRUE\n",
       "\\item TRUE\n",
       "\\item FALSE\n",
       "\\end{enumerate*}\n"
      ],
      "text/markdown": [
       "1. FALSE\n",
       "2. TRUE\n",
       "3. TRUE\n",
       "4. FALSE\n",
       "\n",
       "\n"
      ],
      "text/plain": [
       "[1] FALSE  TRUE  TRUE FALSE"
      ]
     },
     "metadata": {},
     "output_type": "display_data"
    },
    {
     "data": {
      "text/html": [
       "<ol class=list-inline>\n",
       "\t<li>2</li>\n",
       "\t<li>1</li>\n",
       "</ol>\n"
      ],
      "text/latex": [
       "\\begin{enumerate*}\n",
       "\\item 2\n",
       "\\item 1\n",
       "\\end{enumerate*}\n"
      ],
      "text/markdown": [
       "1. 2\n",
       "2. 1\n",
       "\n",
       "\n"
      ],
      "text/plain": [
       "[1] 2 1"
      ]
     },
     "metadata": {},
     "output_type": "display_data"
    },
    {
     "data": {
      "text/html": [
       "4"
      ],
      "text/latex": [
       "4"
      ],
      "text/markdown": [
       "4"
      ],
      "text/plain": [
       "[1] 4"
      ]
     },
     "metadata": {},
     "output_type": "display_data"
    }
   ],
   "source": [
    "x <- c(5, 2, 1, 4)\n",
    "x <= 2\n",
    "x[x <= 2]\n",
    "x[(x != 5) & (x > 3)]"
   ]
  },
  {
   "cell_type": "markdown",
   "metadata": {},
   "source": [
    "Mi prediccion fue errada,lo correcto es:\n",
    "* x <= 2 evalua cada elemento mediante la condicion x<=2 para luego arrojar valores booleanos en cada evaluacion.\n",
    "* x[x <= 2] Nos arroja los elementos de x cuya posicion coincide con la posicion de todos los TRUE obtenidos en el resultado x<=2.\n",
    "* x[(x != 5) & (x > 3)] Nos arroja los elementos de x cuya posicion coincide con la posicion de todos los TRUE obtenidos en el resultado (x != 5) & (x > 3).\n"
   ]
  },
  {
   "cell_type": "markdown",
   "metadata": {},
   "source": [
    "### e)"
   ]
  },
  {
   "cell_type": "markdown",
   "metadata": {},
   "source": [
    "* rep(1:4,2) imprimira los valores 1,2,3,4 y los volvera a imprimir.\n",
    "* rep(1:4,each = 2) repitira cada valor por separado antes de seguir con el siguiente.\n",
    "* rep(1:4,c(2, 1, 2, 1)) el i-esimo valor de 1:4 lo repetira c[i] veces.\n",
    "* rep(1:4,each = 2, len = 10) no puedo aun predecir este resultado"
   ]
  },
  {
   "cell_type": "code",
   "execution_count": 25,
   "metadata": {},
   "outputs": [
    {
     "data": {
      "text/html": [
       "<ol class=list-inline>\n",
       "\t<li>1</li>\n",
       "\t<li>2</li>\n",
       "\t<li>3</li>\n",
       "\t<li>4</li>\n",
       "\t<li>1</li>\n",
       "\t<li>2</li>\n",
       "\t<li>3</li>\n",
       "\t<li>4</li>\n",
       "</ol>\n"
      ],
      "text/latex": [
       "\\begin{enumerate*}\n",
       "\\item 1\n",
       "\\item 2\n",
       "\\item 3\n",
       "\\item 4\n",
       "\\item 1\n",
       "\\item 2\n",
       "\\item 3\n",
       "\\item 4\n",
       "\\end{enumerate*}\n"
      ],
      "text/markdown": [
       "1. 1\n",
       "2. 2\n",
       "3. 3\n",
       "4. 4\n",
       "5. 1\n",
       "6. 2\n",
       "7. 3\n",
       "8. 4\n",
       "\n",
       "\n"
      ],
      "text/plain": [
       "[1] 1 2 3 4 1 2 3 4"
      ]
     },
     "metadata": {},
     "output_type": "display_data"
    },
    {
     "data": {
      "text/html": [
       "<ol class=list-inline>\n",
       "\t<li>1</li>\n",
       "\t<li>1</li>\n",
       "\t<li>2</li>\n",
       "\t<li>2</li>\n",
       "\t<li>3</li>\n",
       "\t<li>3</li>\n",
       "\t<li>4</li>\n",
       "\t<li>4</li>\n",
       "</ol>\n"
      ],
      "text/latex": [
       "\\begin{enumerate*}\n",
       "\\item 1\n",
       "\\item 1\n",
       "\\item 2\n",
       "\\item 2\n",
       "\\item 3\n",
       "\\item 3\n",
       "\\item 4\n",
       "\\item 4\n",
       "\\end{enumerate*}\n"
      ],
      "text/markdown": [
       "1. 1\n",
       "2. 1\n",
       "3. 2\n",
       "4. 2\n",
       "5. 3\n",
       "6. 3\n",
       "7. 4\n",
       "8. 4\n",
       "\n",
       "\n"
      ],
      "text/plain": [
       "[1] 1 1 2 2 3 3 4 4"
      ]
     },
     "metadata": {},
     "output_type": "display_data"
    },
    {
     "data": {
      "text/html": [
       "<ol class=list-inline>\n",
       "\t<li>1</li>\n",
       "\t<li>1</li>\n",
       "\t<li>2</li>\n",
       "\t<li>3</li>\n",
       "\t<li>3</li>\n",
       "\t<li>4</li>\n",
       "</ol>\n"
      ],
      "text/latex": [
       "\\begin{enumerate*}\n",
       "\\item 1\n",
       "\\item 1\n",
       "\\item 2\n",
       "\\item 3\n",
       "\\item 3\n",
       "\\item 4\n",
       "\\end{enumerate*}\n"
      ],
      "text/markdown": [
       "1. 1\n",
       "2. 1\n",
       "3. 2\n",
       "4. 3\n",
       "5. 3\n",
       "6. 4\n",
       "\n",
       "\n"
      ],
      "text/plain": [
       "[1] 1 1 2 3 3 4"
      ]
     },
     "metadata": {},
     "output_type": "display_data"
    },
    {
     "data": {
      "text/html": [
       "<ol class=list-inline>\n",
       "\t<li>1</li>\n",
       "\t<li>1</li>\n",
       "\t<li>2</li>\n",
       "\t<li>2</li>\n",
       "\t<li>3</li>\n",
       "\t<li>3</li>\n",
       "\t<li>4</li>\n",
       "\t<li>4</li>\n",
       "\t<li>1</li>\n",
       "\t<li>1</li>\n",
       "</ol>\n"
      ],
      "text/latex": [
       "\\begin{enumerate*}\n",
       "\\item 1\n",
       "\\item 1\n",
       "\\item 2\n",
       "\\item 2\n",
       "\\item 3\n",
       "\\item 3\n",
       "\\item 4\n",
       "\\item 4\n",
       "\\item 1\n",
       "\\item 1\n",
       "\\end{enumerate*}\n"
      ],
      "text/markdown": [
       "1. 1\n",
       "2. 1\n",
       "3. 2\n",
       "4. 2\n",
       "5. 3\n",
       "6. 3\n",
       "7. 4\n",
       "8. 4\n",
       "9. 1\n",
       "10. 1\n",
       "\n",
       "\n"
      ],
      "text/plain": [
       " [1] 1 1 2 2 3 3 4 4 1 1"
      ]
     },
     "metadata": {},
     "output_type": "display_data"
    }
   ],
   "source": [
    "rep(1:4,2)\n",
    "rep(1:4,each = 2)\n",
    "rep(1:4,c(2, 1, 2, 1))\n",
    "rep(1:4,each = 2, len = 10)"
   ]
  },
  {
   "cell_type": "markdown",
   "metadata": {},
   "source": [
    "#### obs:\n",
    "rep(1:4,each = 2, len = 10) repite cada valor dos veces y al poner len=10 indicamos que se devuelvan 10 valores,los que faltan se rellenan repitiendo la secuencia."
   ]
  },
  {
   "cell_type": "markdown",
   "metadata": {},
   "source": [
    "### f)"
   ]
  },
  {
   "cell_type": "markdown",
   "metadata": {},
   "source": [
    "* 2:3^2 mostrara todos los valores desde el 2 hasta el 3^2 es decir 2:9\n",
    "* seq(2, -3) * c(-1, 1);primero con seq(2,-3) se tendran todos los valores enteros desde el 2 hasta el -3 luego al multiplicarse por c(-1,1) se tendra {-2,1,0,-1,2,-3}"
   ]
  },
  {
   "cell_type": "code",
   "execution_count": 9,
   "metadata": {},
   "outputs": [
    {
     "data": {
      "text/html": [
       "<ol class=list-inline>\n",
       "\t<li>2</li>\n",
       "\t<li>3</li>\n",
       "\t<li>4</li>\n",
       "\t<li>5</li>\n",
       "\t<li>6</li>\n",
       "\t<li>7</li>\n",
       "\t<li>8</li>\n",
       "\t<li>9</li>\n",
       "</ol>\n"
      ],
      "text/latex": [
       "\\begin{enumerate*}\n",
       "\\item 2\n",
       "\\item 3\n",
       "\\item 4\n",
       "\\item 5\n",
       "\\item 6\n",
       "\\item 7\n",
       "\\item 8\n",
       "\\item 9\n",
       "\\end{enumerate*}\n"
      ],
      "text/markdown": [
       "1. 2\n",
       "2. 3\n",
       "3. 4\n",
       "4. 5\n",
       "5. 6\n",
       "6. 7\n",
       "7. 8\n",
       "8. 9\n",
       "\n",
       "\n"
      ],
      "text/plain": [
       "[1] 2 3 4 5 6 7 8 9"
      ]
     },
     "metadata": {},
     "output_type": "display_data"
    },
    {
     "data": {
      "text/html": [
       "<ol class=list-inline>\n",
       "\t<li>-2</li>\n",
       "\t<li>1</li>\n",
       "\t<li>0</li>\n",
       "\t<li>-1</li>\n",
       "\t<li>2</li>\n",
       "\t<li>-3</li>\n",
       "</ol>\n"
      ],
      "text/latex": [
       "\\begin{enumerate*}\n",
       "\\item -2\n",
       "\\item 1\n",
       "\\item 0\n",
       "\\item -1\n",
       "\\item 2\n",
       "\\item -3\n",
       "\\end{enumerate*}\n"
      ],
      "text/markdown": [
       "1. -2\n",
       "2. 1\n",
       "3. 0\n",
       "4. -1\n",
       "5. 2\n",
       "6. -3\n",
       "\n",
       "\n"
      ],
      "text/plain": [
       "[1] -2  1  0 -1  2 -3"
      ]
     },
     "metadata": {},
     "output_type": "display_data"
    }
   ],
   "source": [
    "2:3^2\n",
    "seq(2, -3) * c(-1,1)"
   ]
  },
  {
   "cell_type": "markdown",
   "metadata": {},
   "source": [
    "### 4. Calcula lo siguiente: "
   ]
  },
  {
   "cell_type": "markdown",
   "metadata": {},
   "source": [
    "![Sin titulo](matriz4.png)"
   ]
  },
  {
   "cell_type": "code",
   "execution_count": 17,
   "metadata": {},
   "outputs": [
    {
     "data": {
      "text/html": [
       "<table>\n",
       "<tbody>\n",
       "\t<tr><td> -9.714286</td><td>-19.42857 </td><td> -9.714286</td></tr>\n",
       "\t<tr><td>-29.428571</td><td>-38.85714 </td><td>-29.428571</td></tr>\n",
       "\t<tr><td>-48.000000</td><td>-58.28571 </td><td>-48.000000</td></tr>\n",
       "</tbody>\n",
       "</table>\n"
      ],
      "text/latex": [
       "\\begin{tabular}{lll}\n",
       "\t  -9.714286 & -19.42857  &  -9.714286\\\\\n",
       "\t -29.428571 & -38.85714  & -29.428571\\\\\n",
       "\t -48.000000 & -58.28571  & -48.000000\\\\\n",
       "\\end{tabular}\n"
      ],
      "text/markdown": [
       "\n",
       "|  -9.714286 | -19.42857  |  -9.714286 | \n",
       "| -29.428571 | -38.85714  | -29.428571 | \n",
       "| -48.000000 | -58.28571  | -48.000000 | \n",
       "\n",
       "\n"
      ],
      "text/plain": [
       "     [,1]       [,2]      [,3]      \n",
       "[1,]  -9.714286 -19.42857  -9.714286\n",
       "[2,] -29.428571 -38.85714 -29.428571\n",
       "[3,] -48.000000 -58.28571 -48.000000"
      ]
     },
     "metadata": {},
     "output_type": "display_data"
    }
   ],
   "source": [
    "A <- matrix(c(1,2,7,2,4,6),nrow = 3, ncol= 3)\n",
    "B <- matrix(c(10,30,50,20,40,60),nrow = 3, ncol= 3)\n",
    "(2/7)*A-B"
   ]
  },
  {
   "cell_type": "markdown",
   "metadata": {},
   "source": [
    "### 5. Almacena y calcula:"
   ]
  },
  {
   "cell_type": "markdown",
   "metadata": {},
   "source": [
    "![Sin titulo](matriz5.png)"
   ]
  },
  {
   "cell_type": "code",
   "execution_count": 43,
   "metadata": {},
   "outputs": [
    {
     "data": {
      "text/html": [
       "<table>\n",
       "<tbody>\n",
       "\t<tr><td>67</td></tr>\n",
       "</tbody>\n",
       "</table>\n"
      ],
      "text/latex": [
       "\\begin{tabular}{l}\n",
       "\t 67\\\\\n",
       "\\end{tabular}\n"
      ],
      "text/markdown": [
       "\n",
       "| 67 | \n",
       "\n",
       "\n"
      ],
      "text/plain": [
       "     [,1]\n",
       "[1,] 67  "
      ]
     },
     "metadata": {},
     "output_type": "display_data"
    },
    {
     "data": {
      "text/html": [
       "<table>\n",
       "<tbody>\n",
       "\t<tr><td>67 </td><td>134</td><td>469</td></tr>\n",
       "</tbody>\n",
       "</table>\n"
      ],
      "text/latex": [
       "\\begin{tabular}{lll}\n",
       "\t 67  & 134 & 469\\\\\n",
       "\\end{tabular}\n"
      ],
      "text/markdown": [
       "\n",
       "| 67  | 134 | 469 | \n",
       "\n",
       "\n"
      ],
      "text/plain": [
       "     [,1] [,2] [,3]\n",
       "[1,] 67   134  469 "
      ]
     },
     "metadata": {},
     "output_type": "display_data"
    },
    {
     "data": {
      "text/html": [
       "398300"
      ],
      "text/latex": [
       "398300"
      ],
      "text/markdown": [
       "398300"
      ],
      "text/plain": [
       "[1] 398300"
      ]
     },
     "metadata": {},
     "output_type": "display_data"
    },
    {
     "data": {
      "text/html": [
       "<table>\n",
       "<tbody>\n",
       "\t<tr><td>-0.007923676</td><td> 0.003123274</td><td>0.007843334 </td></tr>\n",
       "\t<tr><td> 0.003123274</td><td>-0.005350239</td><td>0.011483806 </td></tr>\n",
       "\t<tr><td> 0.007843334</td><td> 0.011483806</td><td>0.017584735 </td></tr>\n",
       "</tbody>\n",
       "</table>\n"
      ],
      "text/latex": [
       "\\begin{tabular}{lll}\n",
       "\t -0.007923676 &  0.003123274 & 0.007843334 \\\\\n",
       "\t  0.003123274 & -0.005350239 & 0.011483806 \\\\\n",
       "\t  0.007843334 &  0.011483806 & 0.017584735 \\\\\n",
       "\\end{tabular}\n"
      ],
      "text/markdown": [
       "\n",
       "| -0.007923676 |  0.003123274 | 0.007843334  | \n",
       "|  0.003123274 | -0.005350239 | 0.011483806  | \n",
       "|  0.007843334 |  0.011483806 | 0.017584735  | \n",
       "\n",
       "\n"
      ],
      "text/plain": [
       "     [,1]         [,2]         [,3]       \n",
       "[1,] -0.007923676  0.003123274 0.007843334\n",
       "[2,]  0.003123274 -0.005350239 0.011483806\n",
       "[3,]  0.007843334  0.011483806 0.017584735"
      ]
     },
     "metadata": {},
     "output_type": "display_data"
    }
   ],
   "source": [
    "A <- matrix(c(1,2,7),nrow = 3, ncol= 1)\n",
    "B <- matrix(c(3,4,8),nrow = 3, ncol= 1)\n",
    "#A %*% B NO puede resolverse\n",
    "t(A) %*% B\n",
    "t(B) %*% (A %*% t(A))\n",
    "det((B %*% t(B))+(A %*% t(A))-100*diag(1,3)) # diferente de 0,existe inversa!\n",
    "solve((B %*% t(B))+(A %*% t(A))-100*diag(1,3)) # hallando la inversa"
   ]
  },
  {
   "cell_type": "markdown",
   "metadata": {},
   "source": [
    "### 6.\n",
    "##### La función diag tiene varios usos, uno de los cuales es tomar un vector como entrada y crea una matriz cuadrada con ese vector en la diagonal. Crea una matriz 21 × 21 con la secuencia de 10 a 0 y a 10 (es decir, 10, . . . , 1, 0, 1, . . . , 10)."
   ]
  },
  {
   "cell_type": "code",
   "execution_count": 44,
   "metadata": {},
   "outputs": [
    {
     "data": {
      "text/html": [
       "<table>\n",
       "<tbody>\n",
       "\t<tr><td>10</td><td>0 </td><td>0 </td><td>0 </td><td>0 </td><td>0 </td><td>0 </td><td>0 </td><td>0 </td><td>0 </td><td>⋯ </td><td>0 </td><td>0 </td><td>0 </td><td>0 </td><td>0 </td><td>0 </td><td>0 </td><td>0 </td><td>0 </td><td> 0</td></tr>\n",
       "\t<tr><td> 0</td><td>9 </td><td>0 </td><td>0 </td><td>0 </td><td>0 </td><td>0 </td><td>0 </td><td>0 </td><td>0 </td><td>⋯ </td><td>0 </td><td>0 </td><td>0 </td><td>0 </td><td>0 </td><td>0 </td><td>0 </td><td>0 </td><td>0 </td><td> 0</td></tr>\n",
       "\t<tr><td> 0</td><td>0 </td><td>8 </td><td>0 </td><td>0 </td><td>0 </td><td>0 </td><td>0 </td><td>0 </td><td>0 </td><td>⋯ </td><td>0 </td><td>0 </td><td>0 </td><td>0 </td><td>0 </td><td>0 </td><td>0 </td><td>0 </td><td>0 </td><td> 0</td></tr>\n",
       "\t<tr><td> 0</td><td>0 </td><td>0 </td><td>7 </td><td>0 </td><td>0 </td><td>0 </td><td>0 </td><td>0 </td><td>0 </td><td>⋯ </td><td>0 </td><td>0 </td><td>0 </td><td>0 </td><td>0 </td><td>0 </td><td>0 </td><td>0 </td><td>0 </td><td> 0</td></tr>\n",
       "\t<tr><td> 0</td><td>0 </td><td>0 </td><td>0 </td><td>6 </td><td>0 </td><td>0 </td><td>0 </td><td>0 </td><td>0 </td><td>⋯ </td><td>0 </td><td>0 </td><td>0 </td><td>0 </td><td>0 </td><td>0 </td><td>0 </td><td>0 </td><td>0 </td><td> 0</td></tr>\n",
       "\t<tr><td> 0</td><td>0 </td><td>0 </td><td>0 </td><td>0 </td><td>5 </td><td>0 </td><td>0 </td><td>0 </td><td>0 </td><td>⋯ </td><td>0 </td><td>0 </td><td>0 </td><td>0 </td><td>0 </td><td>0 </td><td>0 </td><td>0 </td><td>0 </td><td> 0</td></tr>\n",
       "\t<tr><td> 0</td><td>0 </td><td>0 </td><td>0 </td><td>0 </td><td>0 </td><td>4 </td><td>0 </td><td>0 </td><td>0 </td><td>⋯ </td><td>0 </td><td>0 </td><td>0 </td><td>0 </td><td>0 </td><td>0 </td><td>0 </td><td>0 </td><td>0 </td><td> 0</td></tr>\n",
       "\t<tr><td> 0</td><td>0 </td><td>0 </td><td>0 </td><td>0 </td><td>0 </td><td>0 </td><td>3 </td><td>0 </td><td>0 </td><td>⋯ </td><td>0 </td><td>0 </td><td>0 </td><td>0 </td><td>0 </td><td>0 </td><td>0 </td><td>0 </td><td>0 </td><td> 0</td></tr>\n",
       "\t<tr><td> 0</td><td>0 </td><td>0 </td><td>0 </td><td>0 </td><td>0 </td><td>0 </td><td>0 </td><td>2 </td><td>0 </td><td>⋯ </td><td>0 </td><td>0 </td><td>0 </td><td>0 </td><td>0 </td><td>0 </td><td>0 </td><td>0 </td><td>0 </td><td> 0</td></tr>\n",
       "\t<tr><td> 0</td><td>0 </td><td>0 </td><td>0 </td><td>0 </td><td>0 </td><td>0 </td><td>0 </td><td>0 </td><td>1 </td><td>⋯ </td><td>0 </td><td>0 </td><td>0 </td><td>0 </td><td>0 </td><td>0 </td><td>0 </td><td>0 </td><td>0 </td><td> 0</td></tr>\n",
       "\t<tr><td> 0</td><td>0 </td><td>0 </td><td>0 </td><td>0 </td><td>0 </td><td>0 </td><td>0 </td><td>0 </td><td>0 </td><td>⋯ </td><td>0 </td><td>0 </td><td>0 </td><td>0 </td><td>0 </td><td>0 </td><td>0 </td><td>0 </td><td>0 </td><td> 0</td></tr>\n",
       "\t<tr><td> 0</td><td>0 </td><td>0 </td><td>0 </td><td>0 </td><td>0 </td><td>0 </td><td>0 </td><td>0 </td><td>0 </td><td>⋯ </td><td>1 </td><td>0 </td><td>0 </td><td>0 </td><td>0 </td><td>0 </td><td>0 </td><td>0 </td><td>0 </td><td> 0</td></tr>\n",
       "\t<tr><td> 0</td><td>0 </td><td>0 </td><td>0 </td><td>0 </td><td>0 </td><td>0 </td><td>0 </td><td>0 </td><td>0 </td><td>⋯ </td><td>0 </td><td>2 </td><td>0 </td><td>0 </td><td>0 </td><td>0 </td><td>0 </td><td>0 </td><td>0 </td><td> 0</td></tr>\n",
       "\t<tr><td> 0</td><td>0 </td><td>0 </td><td>0 </td><td>0 </td><td>0 </td><td>0 </td><td>0 </td><td>0 </td><td>0 </td><td>⋯ </td><td>0 </td><td>0 </td><td>3 </td><td>0 </td><td>0 </td><td>0 </td><td>0 </td><td>0 </td><td>0 </td><td> 0</td></tr>\n",
       "\t<tr><td> 0</td><td>0 </td><td>0 </td><td>0 </td><td>0 </td><td>0 </td><td>0 </td><td>0 </td><td>0 </td><td>0 </td><td>⋯ </td><td>0 </td><td>0 </td><td>0 </td><td>4 </td><td>0 </td><td>0 </td><td>0 </td><td>0 </td><td>0 </td><td> 0</td></tr>\n",
       "\t<tr><td> 0</td><td>0 </td><td>0 </td><td>0 </td><td>0 </td><td>0 </td><td>0 </td><td>0 </td><td>0 </td><td>0 </td><td>⋯ </td><td>0 </td><td>0 </td><td>0 </td><td>0 </td><td>5 </td><td>0 </td><td>0 </td><td>0 </td><td>0 </td><td> 0</td></tr>\n",
       "\t<tr><td> 0</td><td>0 </td><td>0 </td><td>0 </td><td>0 </td><td>0 </td><td>0 </td><td>0 </td><td>0 </td><td>0 </td><td>⋯ </td><td>0 </td><td>0 </td><td>0 </td><td>0 </td><td>0 </td><td>6 </td><td>0 </td><td>0 </td><td>0 </td><td> 0</td></tr>\n",
       "\t<tr><td> 0</td><td>0 </td><td>0 </td><td>0 </td><td>0 </td><td>0 </td><td>0 </td><td>0 </td><td>0 </td><td>0 </td><td>⋯ </td><td>0 </td><td>0 </td><td>0 </td><td>0 </td><td>0 </td><td>0 </td><td>7 </td><td>0 </td><td>0 </td><td> 0</td></tr>\n",
       "\t<tr><td> 0</td><td>0 </td><td>0 </td><td>0 </td><td>0 </td><td>0 </td><td>0 </td><td>0 </td><td>0 </td><td>0 </td><td>⋯ </td><td>0 </td><td>0 </td><td>0 </td><td>0 </td><td>0 </td><td>0 </td><td>0 </td><td>8 </td><td>0 </td><td> 0</td></tr>\n",
       "\t<tr><td> 0</td><td>0 </td><td>0 </td><td>0 </td><td>0 </td><td>0 </td><td>0 </td><td>0 </td><td>0 </td><td>0 </td><td>⋯ </td><td>0 </td><td>0 </td><td>0 </td><td>0 </td><td>0 </td><td>0 </td><td>0 </td><td>0 </td><td>9 </td><td> 0</td></tr>\n",
       "\t<tr><td> 0</td><td>0 </td><td>0 </td><td>0 </td><td>0 </td><td>0 </td><td>0 </td><td>0 </td><td>0 </td><td>0 </td><td>⋯ </td><td>0 </td><td>0 </td><td>0 </td><td>0 </td><td>0 </td><td>0 </td><td>0 </td><td>0 </td><td>0 </td><td>10</td></tr>\n",
       "</tbody>\n",
       "</table>\n"
      ],
      "text/latex": [
       "\\begin{tabular}{lllllllllllllllllllll}\n",
       "\t 10 & 0  & 0  & 0  & 0  & 0  & 0  & 0  & 0  & 0  & ⋯  & 0  & 0  & 0  & 0  & 0  & 0  & 0  & 0  & 0  &  0\\\\\n",
       "\t  0 & 9  & 0  & 0  & 0  & 0  & 0  & 0  & 0  & 0  & ⋯  & 0  & 0  & 0  & 0  & 0  & 0  & 0  & 0  & 0  &  0\\\\\n",
       "\t  0 & 0  & 8  & 0  & 0  & 0  & 0  & 0  & 0  & 0  & ⋯  & 0  & 0  & 0  & 0  & 0  & 0  & 0  & 0  & 0  &  0\\\\\n",
       "\t  0 & 0  & 0  & 7  & 0  & 0  & 0  & 0  & 0  & 0  & ⋯  & 0  & 0  & 0  & 0  & 0  & 0  & 0  & 0  & 0  &  0\\\\\n",
       "\t  0 & 0  & 0  & 0  & 6  & 0  & 0  & 0  & 0  & 0  & ⋯  & 0  & 0  & 0  & 0  & 0  & 0  & 0  & 0  & 0  &  0\\\\\n",
       "\t  0 & 0  & 0  & 0  & 0  & 5  & 0  & 0  & 0  & 0  & ⋯  & 0  & 0  & 0  & 0  & 0  & 0  & 0  & 0  & 0  &  0\\\\\n",
       "\t  0 & 0  & 0  & 0  & 0  & 0  & 4  & 0  & 0  & 0  & ⋯  & 0  & 0  & 0  & 0  & 0  & 0  & 0  & 0  & 0  &  0\\\\\n",
       "\t  0 & 0  & 0  & 0  & 0  & 0  & 0  & 3  & 0  & 0  & ⋯  & 0  & 0  & 0  & 0  & 0  & 0  & 0  & 0  & 0  &  0\\\\\n",
       "\t  0 & 0  & 0  & 0  & 0  & 0  & 0  & 0  & 2  & 0  & ⋯  & 0  & 0  & 0  & 0  & 0  & 0  & 0  & 0  & 0  &  0\\\\\n",
       "\t  0 & 0  & 0  & 0  & 0  & 0  & 0  & 0  & 0  & 1  & ⋯  & 0  & 0  & 0  & 0  & 0  & 0  & 0  & 0  & 0  &  0\\\\\n",
       "\t  0 & 0  & 0  & 0  & 0  & 0  & 0  & 0  & 0  & 0  & ⋯  & 0  & 0  & 0  & 0  & 0  & 0  & 0  & 0  & 0  &  0\\\\\n",
       "\t  0 & 0  & 0  & 0  & 0  & 0  & 0  & 0  & 0  & 0  & ⋯  & 1  & 0  & 0  & 0  & 0  & 0  & 0  & 0  & 0  &  0\\\\\n",
       "\t  0 & 0  & 0  & 0  & 0  & 0  & 0  & 0  & 0  & 0  & ⋯  & 0  & 2  & 0  & 0  & 0  & 0  & 0  & 0  & 0  &  0\\\\\n",
       "\t  0 & 0  & 0  & 0  & 0  & 0  & 0  & 0  & 0  & 0  & ⋯  & 0  & 0  & 3  & 0  & 0  & 0  & 0  & 0  & 0  &  0\\\\\n",
       "\t  0 & 0  & 0  & 0  & 0  & 0  & 0  & 0  & 0  & 0  & ⋯  & 0  & 0  & 0  & 4  & 0  & 0  & 0  & 0  & 0  &  0\\\\\n",
       "\t  0 & 0  & 0  & 0  & 0  & 0  & 0  & 0  & 0  & 0  & ⋯  & 0  & 0  & 0  & 0  & 5  & 0  & 0  & 0  & 0  &  0\\\\\n",
       "\t  0 & 0  & 0  & 0  & 0  & 0  & 0  & 0  & 0  & 0  & ⋯  & 0  & 0  & 0  & 0  & 0  & 6  & 0  & 0  & 0  &  0\\\\\n",
       "\t  0 & 0  & 0  & 0  & 0  & 0  & 0  & 0  & 0  & 0  & ⋯  & 0  & 0  & 0  & 0  & 0  & 0  & 7  & 0  & 0  &  0\\\\\n",
       "\t  0 & 0  & 0  & 0  & 0  & 0  & 0  & 0  & 0  & 0  & ⋯  & 0  & 0  & 0  & 0  & 0  & 0  & 0  & 8  & 0  &  0\\\\\n",
       "\t  0 & 0  & 0  & 0  & 0  & 0  & 0  & 0  & 0  & 0  & ⋯  & 0  & 0  & 0  & 0  & 0  & 0  & 0  & 0  & 9  &  0\\\\\n",
       "\t  0 & 0  & 0  & 0  & 0  & 0  & 0  & 0  & 0  & 0  & ⋯  & 0  & 0  & 0  & 0  & 0  & 0  & 0  & 0  & 0  & 10\\\\\n",
       "\\end{tabular}\n"
      ],
      "text/markdown": [
       "\n",
       "| 10 | 0  | 0  | 0  | 0  | 0  | 0  | 0  | 0  | 0  | ⋯  | 0  | 0  | 0  | 0  | 0  | 0  | 0  | 0  | 0  |  0 | \n",
       "|  0 | 9  | 0  | 0  | 0  | 0  | 0  | 0  | 0  | 0  | ⋯  | 0  | 0  | 0  | 0  | 0  | 0  | 0  | 0  | 0  |  0 | \n",
       "|  0 | 0  | 8  | 0  | 0  | 0  | 0  | 0  | 0  | 0  | ⋯  | 0  | 0  | 0  | 0  | 0  | 0  | 0  | 0  | 0  |  0 | \n",
       "|  0 | 0  | 0  | 7  | 0  | 0  | 0  | 0  | 0  | 0  | ⋯  | 0  | 0  | 0  | 0  | 0  | 0  | 0  | 0  | 0  |  0 | \n",
       "|  0 | 0  | 0  | 0  | 6  | 0  | 0  | 0  | 0  | 0  | ⋯  | 0  | 0  | 0  | 0  | 0  | 0  | 0  | 0  | 0  |  0 | \n",
       "|  0 | 0  | 0  | 0  | 0  | 5  | 0  | 0  | 0  | 0  | ⋯  | 0  | 0  | 0  | 0  | 0  | 0  | 0  | 0  | 0  |  0 | \n",
       "|  0 | 0  | 0  | 0  | 0  | 0  | 4  | 0  | 0  | 0  | ⋯  | 0  | 0  | 0  | 0  | 0  | 0  | 0  | 0  | 0  |  0 | \n",
       "|  0 | 0  | 0  | 0  | 0  | 0  | 0  | 3  | 0  | 0  | ⋯  | 0  | 0  | 0  | 0  | 0  | 0  | 0  | 0  | 0  |  0 | \n",
       "|  0 | 0  | 0  | 0  | 0  | 0  | 0  | 0  | 2  | 0  | ⋯  | 0  | 0  | 0  | 0  | 0  | 0  | 0  | 0  | 0  |  0 | \n",
       "|  0 | 0  | 0  | 0  | 0  | 0  | 0  | 0  | 0  | 1  | ⋯  | 0  | 0  | 0  | 0  | 0  | 0  | 0  | 0  | 0  |  0 | \n",
       "|  0 | 0  | 0  | 0  | 0  | 0  | 0  | 0  | 0  | 0  | ⋯  | 0  | 0  | 0  | 0  | 0  | 0  | 0  | 0  | 0  |  0 | \n",
       "|  0 | 0  | 0  | 0  | 0  | 0  | 0  | 0  | 0  | 0  | ⋯  | 1  | 0  | 0  | 0  | 0  | 0  | 0  | 0  | 0  |  0 | \n",
       "|  0 | 0  | 0  | 0  | 0  | 0  | 0  | 0  | 0  | 0  | ⋯  | 0  | 2  | 0  | 0  | 0  | 0  | 0  | 0  | 0  |  0 | \n",
       "|  0 | 0  | 0  | 0  | 0  | 0  | 0  | 0  | 0  | 0  | ⋯  | 0  | 0  | 3  | 0  | 0  | 0  | 0  | 0  | 0  |  0 | \n",
       "|  0 | 0  | 0  | 0  | 0  | 0  | 0  | 0  | 0  | 0  | ⋯  | 0  | 0  | 0  | 4  | 0  | 0  | 0  | 0  | 0  |  0 | \n",
       "|  0 | 0  | 0  | 0  | 0  | 0  | 0  | 0  | 0  | 0  | ⋯  | 0  | 0  | 0  | 0  | 5  | 0  | 0  | 0  | 0  |  0 | \n",
       "|  0 | 0  | 0  | 0  | 0  | 0  | 0  | 0  | 0  | 0  | ⋯  | 0  | 0  | 0  | 0  | 0  | 6  | 0  | 0  | 0  |  0 | \n",
       "|  0 | 0  | 0  | 0  | 0  | 0  | 0  | 0  | 0  | 0  | ⋯  | 0  | 0  | 0  | 0  | 0  | 0  | 7  | 0  | 0  |  0 | \n",
       "|  0 | 0  | 0  | 0  | 0  | 0  | 0  | 0  | 0  | 0  | ⋯  | 0  | 0  | 0  | 0  | 0  | 0  | 0  | 8  | 0  |  0 | \n",
       "|  0 | 0  | 0  | 0  | 0  | 0  | 0  | 0  | 0  | 0  | ⋯  | 0  | 0  | 0  | 0  | 0  | 0  | 0  | 0  | 9  |  0 | \n",
       "|  0 | 0  | 0  | 0  | 0  | 0  | 0  | 0  | 0  | 0  | ⋯  | 0  | 0  | 0  | 0  | 0  | 0  | 0  | 0  | 0  | 10 | \n",
       "\n",
       "\n"
      ],
      "text/plain": [
       "      [,1] [,2] [,3] [,4] [,5] [,6] [,7] [,8] [,9] [,10] [,11] [,12] [,13]\n",
       " [1,] 10   0    0    0    0    0    0    0    0    0     ⋯     0     0    \n",
       " [2,]  0   9    0    0    0    0    0    0    0    0     ⋯     0     0    \n",
       " [3,]  0   0    8    0    0    0    0    0    0    0     ⋯     0     0    \n",
       " [4,]  0   0    0    7    0    0    0    0    0    0     ⋯     0     0    \n",
       " [5,]  0   0    0    0    6    0    0    0    0    0     ⋯     0     0    \n",
       " [6,]  0   0    0    0    0    5    0    0    0    0     ⋯     0     0    \n",
       " [7,]  0   0    0    0    0    0    4    0    0    0     ⋯     0     0    \n",
       " [8,]  0   0    0    0    0    0    0    3    0    0     ⋯     0     0    \n",
       " [9,]  0   0    0    0    0    0    0    0    2    0     ⋯     0     0    \n",
       "[10,]  0   0    0    0    0    0    0    0    0    1     ⋯     0     0    \n",
       "[11,]  0   0    0    0    0    0    0    0    0    0     ⋯     0     0    \n",
       "[12,]  0   0    0    0    0    0    0    0    0    0     ⋯     1     0    \n",
       "[13,]  0   0    0    0    0    0    0    0    0    0     ⋯     0     2    \n",
       "[14,]  0   0    0    0    0    0    0    0    0    0     ⋯     0     0    \n",
       "[15,]  0   0    0    0    0    0    0    0    0    0     ⋯     0     0    \n",
       "[16,]  0   0    0    0    0    0    0    0    0    0     ⋯     0     0    \n",
       "[17,]  0   0    0    0    0    0    0    0    0    0     ⋯     0     0    \n",
       "[18,]  0   0    0    0    0    0    0    0    0    0     ⋯     0     0    \n",
       "[19,]  0   0    0    0    0    0    0    0    0    0     ⋯     0     0    \n",
       "[20,]  0   0    0    0    0    0    0    0    0    0     ⋯     0     0    \n",
       "[21,]  0   0    0    0    0    0    0    0    0    0     ⋯     0     0    \n",
       "      [,14] [,15] [,16] [,17] [,18] [,19] [,20] [,21]\n",
       " [1,] 0     0     0     0     0     0     0      0   \n",
       " [2,] 0     0     0     0     0     0     0      0   \n",
       " [3,] 0     0     0     0     0     0     0      0   \n",
       " [4,] 0     0     0     0     0     0     0      0   \n",
       " [5,] 0     0     0     0     0     0     0      0   \n",
       " [6,] 0     0     0     0     0     0     0      0   \n",
       " [7,] 0     0     0     0     0     0     0      0   \n",
       " [8,] 0     0     0     0     0     0     0      0   \n",
       " [9,] 0     0     0     0     0     0     0      0   \n",
       "[10,] 0     0     0     0     0     0     0      0   \n",
       "[11,] 0     0     0     0     0     0     0      0   \n",
       "[12,] 0     0     0     0     0     0     0      0   \n",
       "[13,] 0     0     0     0     0     0     0      0   \n",
       "[14,] 3     0     0     0     0     0     0      0   \n",
       "[15,] 0     4     0     0     0     0     0      0   \n",
       "[16,] 0     0     5     0     0     0     0      0   \n",
       "[17,] 0     0     0     6     0     0     0      0   \n",
       "[18,] 0     0     0     0     7     0     0      0   \n",
       "[19,] 0     0     0     0     0     8     0      0   \n",
       "[20,] 0     0     0     0     0     0     9      0   \n",
       "[21,] 0     0     0     0     0     0     0     10   "
      ]
     },
     "metadata": {},
     "output_type": "display_data"
    }
   ],
   "source": [
    "diag(c(seq(10,0),seq(1,10)),21)"
   ]
  },
  {
   "cell_type": "markdown",
   "metadata": {},
   "source": [
    "### 7."
   ]
  },
  {
   "cell_type": "markdown",
   "metadata": {},
   "source": [
    "![Sin titulo](matriz7.png)"
   ]
  },
  {
   "cell_type": "code",
   "execution_count": 4,
   "metadata": {},
   "outputs": [
    {
     "data": {
      "text/html": [
       "<table>\n",
       "<tbody>\n",
       "\t<tr><td>0</td><td>0</td><td>0</td><td>0</td></tr>\n",
       "\t<tr><td>0</td><td>0</td><td>0</td><td>0</td></tr>\n",
       "\t<tr><td>0</td><td>0</td><td>0</td><td>0</td></tr>\n",
       "\t<tr><td>0</td><td>0</td><td>0</td><td>0</td></tr>\n",
       "</tbody>\n",
       "</table>\n"
      ],
      "text/latex": [
       "\\begin{tabular}{llll}\n",
       "\t 0 & 0 & 0 & 0\\\\\n",
       "\t 0 & 0 & 0 & 0\\\\\n",
       "\t 0 & 0 & 0 & 0\\\\\n",
       "\t 0 & 0 & 0 & 0\\\\\n",
       "\\end{tabular}\n"
      ],
      "text/markdown": [
       "\n",
       "| 0 | 0 | 0 | 0 | \n",
       "| 0 | 0 | 0 | 0 | \n",
       "| 0 | 0 | 0 | 0 | \n",
       "| 0 | 0 | 0 | 0 | \n",
       "\n",
       "\n"
      ],
      "text/plain": [
       "     [,1] [,2] [,3] [,4]\n",
       "[1,] 0    0    0    0   \n",
       "[2,] 0    0    0    0   \n",
       "[3,] 0    0    0    0   \n",
       "[4,] 0    0    0    0   "
      ]
     },
     "metadata": {},
     "output_type": "display_data"
    }
   ],
   "source": [
    "A <- diag(c(2,3,5,-1),4)\n",
    "(solve(A)%*%A) - diag(1,4)"
   ]
  },
  {
   "cell_type": "markdown",
   "metadata": {},
   "source": [
    "!!!COMPROBADO!!!"
   ]
  },
  {
   "cell_type": "markdown",
   "metadata": {
    "collapsed": true
   },
   "source": [
    "### 8.Usa las funciones matrix() , seq() y rep() para construir la matrices de Henkel 5 × 5."
   ]
  },
  {
   "cell_type": "markdown",
   "metadata": {},
   "source": [
    "![Sin titulo](matriz8.png)"
   ]
  },
  {
   "cell_type": "code",
   "execution_count": 82,
   "metadata": {},
   "outputs": [
    {
     "data": {
      "text/html": [
       "<table>\n",
       "<tbody>\n",
       "\t<tr><td>1</td><td>2</td><td>3</td><td>4</td><td>5</td></tr>\n",
       "\t<tr><td>2</td><td>3</td><td>4</td><td>5</td><td>6</td></tr>\n",
       "\t<tr><td>3</td><td>4</td><td>5</td><td>6</td><td>7</td></tr>\n",
       "\t<tr><td>4</td><td>5</td><td>6</td><td>7</td><td>8</td></tr>\n",
       "\t<tr><td>5</td><td>6</td><td>7</td><td>8</td><td>9</td></tr>\n",
       "</tbody>\n",
       "</table>\n"
      ],
      "text/latex": [
       "\\begin{tabular}{lllll}\n",
       "\t 1 & 2 & 3 & 4 & 5\\\\\n",
       "\t 2 & 3 & 4 & 5 & 6\\\\\n",
       "\t 3 & 4 & 5 & 6 & 7\\\\\n",
       "\t 4 & 5 & 6 & 7 & 8\\\\\n",
       "\t 5 & 6 & 7 & 8 & 9\\\\\n",
       "\\end{tabular}\n"
      ],
      "text/markdown": [
       "\n",
       "| 1 | 2 | 3 | 4 | 5 | \n",
       "| 2 | 3 | 4 | 5 | 6 | \n",
       "| 3 | 4 | 5 | 6 | 7 | \n",
       "| 4 | 5 | 6 | 7 | 8 | \n",
       "| 5 | 6 | 7 | 8 | 9 | \n",
       "\n",
       "\n"
      ],
      "text/plain": [
       "     [,1] [,2] [,3] [,4] [,5]\n",
       "[1,] 1    2    3    4    5   \n",
       "[2,] 2    3    4    5    6   \n",
       "[3,] 3    4    5    6    7   \n",
       "[4,] 4    5    6    7    8   \n",
       "[5,] 5    6    7    8    9   "
      ]
     },
     "metadata": {},
     "output_type": "display_data"
    }
   ],
   "source": [
    "M <- matrix(seq(1,5)+rep(0:4,each=5),nrow=5,ncol=5)\n",
    "M\n"
   ]
  },
  {
   "cell_type": "markdown",
   "metadata": {},
   "source": [
    "### Convierte el código en una función que puede ser usado para construir matrices de dimensión n × n. Usa esa función para mostrar las salida de Matrices de Henkel de orden 10 × 10 y 12 × 12."
   ]
  },
  {
   "cell_type": "code",
   "execution_count": 84,
   "metadata": {},
   "outputs": [
    {
     "data": {
      "text/html": [
       "<table>\n",
       "<tbody>\n",
       "\t<tr><td> 1</td><td> 2</td><td> 3</td><td> 4</td><td> 5</td><td> 6</td><td> 7</td><td> 8</td><td> 9</td><td>10</td></tr>\n",
       "\t<tr><td> 2</td><td> 3</td><td> 4</td><td> 5</td><td> 6</td><td> 7</td><td> 8</td><td> 9</td><td>10</td><td>11</td></tr>\n",
       "\t<tr><td> 3</td><td> 4</td><td> 5</td><td> 6</td><td> 7</td><td> 8</td><td> 9</td><td>10</td><td>11</td><td>12</td></tr>\n",
       "\t<tr><td> 4</td><td> 5</td><td> 6</td><td> 7</td><td> 8</td><td> 9</td><td>10</td><td>11</td><td>12</td><td>13</td></tr>\n",
       "\t<tr><td> 5</td><td> 6</td><td> 7</td><td> 8</td><td> 9</td><td>10</td><td>11</td><td>12</td><td>13</td><td>14</td></tr>\n",
       "\t<tr><td> 6</td><td> 7</td><td> 8</td><td> 9</td><td>10</td><td>11</td><td>12</td><td>13</td><td>14</td><td>15</td></tr>\n",
       "\t<tr><td> 7</td><td> 8</td><td> 9</td><td>10</td><td>11</td><td>12</td><td>13</td><td>14</td><td>15</td><td>16</td></tr>\n",
       "\t<tr><td> 8</td><td> 9</td><td>10</td><td>11</td><td>12</td><td>13</td><td>14</td><td>15</td><td>16</td><td>17</td></tr>\n",
       "\t<tr><td> 9</td><td>10</td><td>11</td><td>12</td><td>13</td><td>14</td><td>15</td><td>16</td><td>17</td><td>18</td></tr>\n",
       "\t<tr><td>10</td><td>11</td><td>12</td><td>13</td><td>14</td><td>15</td><td>16</td><td>17</td><td>18</td><td>19</td></tr>\n",
       "</tbody>\n",
       "</table>\n"
      ],
      "text/latex": [
       "\\begin{tabular}{llllllllll}\n",
       "\t  1 &  2 &  3 &  4 &  5 &  6 &  7 &  8 &  9 & 10\\\\\n",
       "\t  2 &  3 &  4 &  5 &  6 &  7 &  8 &  9 & 10 & 11\\\\\n",
       "\t  3 &  4 &  5 &  6 &  7 &  8 &  9 & 10 & 11 & 12\\\\\n",
       "\t  4 &  5 &  6 &  7 &  8 &  9 & 10 & 11 & 12 & 13\\\\\n",
       "\t  5 &  6 &  7 &  8 &  9 & 10 & 11 & 12 & 13 & 14\\\\\n",
       "\t  6 &  7 &  8 &  9 & 10 & 11 & 12 & 13 & 14 & 15\\\\\n",
       "\t  7 &  8 &  9 & 10 & 11 & 12 & 13 & 14 & 15 & 16\\\\\n",
       "\t  8 &  9 & 10 & 11 & 12 & 13 & 14 & 15 & 16 & 17\\\\\n",
       "\t  9 & 10 & 11 & 12 & 13 & 14 & 15 & 16 & 17 & 18\\\\\n",
       "\t 10 & 11 & 12 & 13 & 14 & 15 & 16 & 17 & 18 & 19\\\\\n",
       "\\end{tabular}\n"
      ],
      "text/markdown": [
       "\n",
       "|  1 |  2 |  3 |  4 |  5 |  6 |  7 |  8 |  9 | 10 | \n",
       "|  2 |  3 |  4 |  5 |  6 |  7 |  8 |  9 | 10 | 11 | \n",
       "|  3 |  4 |  5 |  6 |  7 |  8 |  9 | 10 | 11 | 12 | \n",
       "|  4 |  5 |  6 |  7 |  8 |  9 | 10 | 11 | 12 | 13 | \n",
       "|  5 |  6 |  7 |  8 |  9 | 10 | 11 | 12 | 13 | 14 | \n",
       "|  6 |  7 |  8 |  9 | 10 | 11 | 12 | 13 | 14 | 15 | \n",
       "|  7 |  8 |  9 | 10 | 11 | 12 | 13 | 14 | 15 | 16 | \n",
       "|  8 |  9 | 10 | 11 | 12 | 13 | 14 | 15 | 16 | 17 | \n",
       "|  9 | 10 | 11 | 12 | 13 | 14 | 15 | 16 | 17 | 18 | \n",
       "| 10 | 11 | 12 | 13 | 14 | 15 | 16 | 17 | 18 | 19 | \n",
       "\n",
       "\n"
      ],
      "text/plain": [
       "      [,1] [,2] [,3] [,4] [,5] [,6] [,7] [,8] [,9] [,10]\n",
       " [1,]  1    2    3    4    5    6    7    8    9   10   \n",
       " [2,]  2    3    4    5    6    7    8    9   10   11   \n",
       " [3,]  3    4    5    6    7    8    9   10   11   12   \n",
       " [4,]  4    5    6    7    8    9   10   11   12   13   \n",
       " [5,]  5    6    7    8    9   10   11   12   13   14   \n",
       " [6,]  6    7    8    9   10   11   12   13   14   15   \n",
       " [7,]  7    8    9   10   11   12   13   14   15   16   \n",
       " [8,]  8    9   10   11   12   13   14   15   16   17   \n",
       " [9,]  9   10   11   12   13   14   15   16   17   18   \n",
       "[10,] 10   11   12   13   14   15   16   17   18   19   "
      ]
     },
     "metadata": {},
     "output_type": "display_data"
    },
    {
     "data": {
      "text/html": [
       "<table>\n",
       "<tbody>\n",
       "\t<tr><td> 1</td><td> 2</td><td> 3</td><td> 4</td><td> 5</td><td> 6</td><td> 7</td><td> 8</td><td> 9</td><td>10</td><td>11</td><td>12</td></tr>\n",
       "\t<tr><td> 2</td><td> 3</td><td> 4</td><td> 5</td><td> 6</td><td> 7</td><td> 8</td><td> 9</td><td>10</td><td>11</td><td>12</td><td>13</td></tr>\n",
       "\t<tr><td> 3</td><td> 4</td><td> 5</td><td> 6</td><td> 7</td><td> 8</td><td> 9</td><td>10</td><td>11</td><td>12</td><td>13</td><td>14</td></tr>\n",
       "\t<tr><td> 4</td><td> 5</td><td> 6</td><td> 7</td><td> 8</td><td> 9</td><td>10</td><td>11</td><td>12</td><td>13</td><td>14</td><td>15</td></tr>\n",
       "\t<tr><td> 5</td><td> 6</td><td> 7</td><td> 8</td><td> 9</td><td>10</td><td>11</td><td>12</td><td>13</td><td>14</td><td>15</td><td>16</td></tr>\n",
       "\t<tr><td> 6</td><td> 7</td><td> 8</td><td> 9</td><td>10</td><td>11</td><td>12</td><td>13</td><td>14</td><td>15</td><td>16</td><td>17</td></tr>\n",
       "\t<tr><td> 7</td><td> 8</td><td> 9</td><td>10</td><td>11</td><td>12</td><td>13</td><td>14</td><td>15</td><td>16</td><td>17</td><td>18</td></tr>\n",
       "\t<tr><td> 8</td><td> 9</td><td>10</td><td>11</td><td>12</td><td>13</td><td>14</td><td>15</td><td>16</td><td>17</td><td>18</td><td>19</td></tr>\n",
       "\t<tr><td> 9</td><td>10</td><td>11</td><td>12</td><td>13</td><td>14</td><td>15</td><td>16</td><td>17</td><td>18</td><td>19</td><td>20</td></tr>\n",
       "\t<tr><td>10</td><td>11</td><td>12</td><td>13</td><td>14</td><td>15</td><td>16</td><td>17</td><td>18</td><td>19</td><td>20</td><td>21</td></tr>\n",
       "\t<tr><td>11</td><td>12</td><td>13</td><td>14</td><td>15</td><td>16</td><td>17</td><td>18</td><td>19</td><td>20</td><td>21</td><td>22</td></tr>\n",
       "\t<tr><td>12</td><td>13</td><td>14</td><td>15</td><td>16</td><td>17</td><td>18</td><td>19</td><td>20</td><td>21</td><td>22</td><td>23</td></tr>\n",
       "</tbody>\n",
       "</table>\n"
      ],
      "text/latex": [
       "\\begin{tabular}{llllllllllll}\n",
       "\t  1 &  2 &  3 &  4 &  5 &  6 &  7 &  8 &  9 & 10 & 11 & 12\\\\\n",
       "\t  2 &  3 &  4 &  5 &  6 &  7 &  8 &  9 & 10 & 11 & 12 & 13\\\\\n",
       "\t  3 &  4 &  5 &  6 &  7 &  8 &  9 & 10 & 11 & 12 & 13 & 14\\\\\n",
       "\t  4 &  5 &  6 &  7 &  8 &  9 & 10 & 11 & 12 & 13 & 14 & 15\\\\\n",
       "\t  5 &  6 &  7 &  8 &  9 & 10 & 11 & 12 & 13 & 14 & 15 & 16\\\\\n",
       "\t  6 &  7 &  8 &  9 & 10 & 11 & 12 & 13 & 14 & 15 & 16 & 17\\\\\n",
       "\t  7 &  8 &  9 & 10 & 11 & 12 & 13 & 14 & 15 & 16 & 17 & 18\\\\\n",
       "\t  8 &  9 & 10 & 11 & 12 & 13 & 14 & 15 & 16 & 17 & 18 & 19\\\\\n",
       "\t  9 & 10 & 11 & 12 & 13 & 14 & 15 & 16 & 17 & 18 & 19 & 20\\\\\n",
       "\t 10 & 11 & 12 & 13 & 14 & 15 & 16 & 17 & 18 & 19 & 20 & 21\\\\\n",
       "\t 11 & 12 & 13 & 14 & 15 & 16 & 17 & 18 & 19 & 20 & 21 & 22\\\\\n",
       "\t 12 & 13 & 14 & 15 & 16 & 17 & 18 & 19 & 20 & 21 & 22 & 23\\\\\n",
       "\\end{tabular}\n"
      ],
      "text/markdown": [
       "\n",
       "|  1 |  2 |  3 |  4 |  5 |  6 |  7 |  8 |  9 | 10 | 11 | 12 | \n",
       "|  2 |  3 |  4 |  5 |  6 |  7 |  8 |  9 | 10 | 11 | 12 | 13 | \n",
       "|  3 |  4 |  5 |  6 |  7 |  8 |  9 | 10 | 11 | 12 | 13 | 14 | \n",
       "|  4 |  5 |  6 |  7 |  8 |  9 | 10 | 11 | 12 | 13 | 14 | 15 | \n",
       "|  5 |  6 |  7 |  8 |  9 | 10 | 11 | 12 | 13 | 14 | 15 | 16 | \n",
       "|  6 |  7 |  8 |  9 | 10 | 11 | 12 | 13 | 14 | 15 | 16 | 17 | \n",
       "|  7 |  8 |  9 | 10 | 11 | 12 | 13 | 14 | 15 | 16 | 17 | 18 | \n",
       "|  8 |  9 | 10 | 11 | 12 | 13 | 14 | 15 | 16 | 17 | 18 | 19 | \n",
       "|  9 | 10 | 11 | 12 | 13 | 14 | 15 | 16 | 17 | 18 | 19 | 20 | \n",
       "| 10 | 11 | 12 | 13 | 14 | 15 | 16 | 17 | 18 | 19 | 20 | 21 | \n",
       "| 11 | 12 | 13 | 14 | 15 | 16 | 17 | 18 | 19 | 20 | 21 | 22 | \n",
       "| 12 | 13 | 14 | 15 | 16 | 17 | 18 | 19 | 20 | 21 | 22 | 23 | \n",
       "\n",
       "\n"
      ],
      "text/plain": [
       "      [,1] [,2] [,3] [,4] [,5] [,6] [,7] [,8] [,9] [,10] [,11] [,12]\n",
       " [1,]  1    2    3    4    5    6    7    8    9   10    11    12   \n",
       " [2,]  2    3    4    5    6    7    8    9   10   11    12    13   \n",
       " [3,]  3    4    5    6    7    8    9   10   11   12    13    14   \n",
       " [4,]  4    5    6    7    8    9   10   11   12   13    14    15   \n",
       " [5,]  5    6    7    8    9   10   11   12   13   14    15    16   \n",
       " [6,]  6    7    8    9   10   11   12   13   14   15    16    17   \n",
       " [7,]  7    8    9   10   11   12   13   14   15   16    17    18   \n",
       " [8,]  8    9   10   11   12   13   14   15   16   17    18    19   \n",
       " [9,]  9   10   11   12   13   14   15   16   17   18    19    20   \n",
       "[10,] 10   11   12   13   14   15   16   17   18   19    20    21   \n",
       "[11,] 11   12   13   14   15   16   17   18   19   20    21    22   \n",
       "[12,] 12   13   14   15   16   17   18   19   20   21    22    23   "
      ]
     },
     "metadata": {},
     "output_type": "display_data"
    }
   ],
   "source": [
    "\n",
    "\n",
    "HENKEL <- function(x)\n",
    "{\n",
    "  matrix(seq(1,x)+rep(0:(x-1),each=x),nrow=x,ncol=x)\n",
    "}\n",
    "# Dimension 10 x10\n",
    "HENKEL(10)\n",
    "# Dimension 12 x 12\n",
    "HENKEL(12)"
   ]
  },
  {
   "cell_type": "code",
   "execution_count": null,
   "metadata": {
    "collapsed": true
   },
   "outputs": [],
   "source": []
  }
 ],
 "metadata": {
  "kernelspec": {
   "display_name": "R",
   "language": "R",
   "name": "ir"
  },
  "language_info": {
   "codemirror_mode": "r",
   "file_extension": ".r",
   "mimetype": "text/x-r-source",
   "name": "R",
   "pygments_lexer": "r",
   "version": "3.4.1"
  }
 },
 "nbformat": 4,
 "nbformat_minor": 2
}
